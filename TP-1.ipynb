{
 "cells": [
  {
   "cell_type": "code",
   "execution_count": 1,
   "metadata": {},
   "outputs": [],
   "source": [
    "import pandas as pd\n",
    "from pandas_profiling import ProfileReport\n",
    "from matplotlib import pyplot as plt\n",
    "import seaborn as sns\n",
    "from sklearn import tree\n",
    "from sklearn.metrics import accuracy_score"
   ]
  },
  {
   "cell_type": "code",
   "execution_count": 2,
   "metadata": {},
   "outputs": [],
   "source": [
    "def GetDatosEncuesta():\n",
    "    \"\"\"Obtener el dataset.\n",
    "\n",
    "    Devuelve\n",
    "    --------\n",
    "        pd.DataFrame: El dataset con los datos de la encuesta descargado desde el drive.\n",
    "    \"\"\"\n",
    "    return pd.read_csv('https://drive.google.com/uc?export=download&id=1i-KJ2lSvM7OQH0Yd59bX01VoZcq8Sglq')\n",
    "\n",
    "def GetEncuesta():\n",
    "    \"\"\"Obtener el dataset.\n",
    "\n",
    "    Devuelve\n",
    "    --------\n",
    "        pd.DataFrame: El dataset con los resultados de la encuesta descargado desde el drive.\n",
    "    \"\"\"\n",
    "    return pd.read_csv('https://drive.google.com/uc?export=download&id=1km-AEIMnWVGqMtK-W28n59hqS5Kufhd0')\n",
    "\n"
   ]
  },
  {
   "cell_type": "markdown",
   "metadata": {},
   "source": [
    "# Preguntas inciales\n",
    "- ¿Los datos están completos? ¿son consistentes?\n",
    "- ¿Las columnas aportan información relevante?\n",
    "- ¿Los datos sirven para generar una conclusión?\n",
    "- ¿Los datos se encuentra balanceados?\n",
    "- ¿Se pueden eliminar entradas con poca importancia (outliers)?\n",
    "- ¿Podemos agrupar datos?\n",
    "- ¿Podemos imputar datos faltantes?\n",
    "\n",
    "\n",
    "Para responder estas preguntas realizamos el siguiente análisis"
   ]
  },
  {
   "cell_type": "markdown",
   "metadata": {},
   "source": [
    "# Inspección inicial de datos de la encuesta\n",
    "Importamos los datos en un dataframe y hacemos un análisis de la estructura del mismo."
   ]
  },
  {
   "cell_type": "code",
   "execution_count": 3,
   "metadata": {},
   "outputs": [],
   "source": [
    "# Importamos csv con los datos\n",
    "df_datos_encuesta = GetDatosEncuesta()"
   ]
  },
  {
   "cell_type": "code",
   "execution_count": 4,
   "metadata": {},
   "outputs": [
    {
     "data": {
      "text/html": [
       "<div>\n",
       "<style scoped>\n",
       "    .dataframe tbody tr th:only-of-type {\n",
       "        vertical-align: middle;\n",
       "    }\n",
       "\n",
       "    .dataframe tbody tr th {\n",
       "        vertical-align: top;\n",
       "    }\n",
       "\n",
       "    .dataframe thead th {\n",
       "        text-align: right;\n",
       "    }\n",
       "</style>\n",
       "<table border=\"1\" class=\"dataframe\">\n",
       "  <thead>\n",
       "    <tr style=\"text-align: right;\">\n",
       "      <th></th>\n",
       "      <th>tipo_de_sala</th>\n",
       "      <th>nombre</th>\n",
       "      <th>id_usuario</th>\n",
       "      <th>genero</th>\n",
       "      <th>edad</th>\n",
       "      <th>amigos</th>\n",
       "      <th>parientes</th>\n",
       "      <th>id_ticket</th>\n",
       "      <th>precio_ticket</th>\n",
       "      <th>fila</th>\n",
       "      <th>nombre_sede</th>\n",
       "    </tr>\n",
       "  </thead>\n",
       "  <tbody>\n",
       "    <tr>\n",
       "      <th>0</th>\n",
       "      <td>4d</td>\n",
       "      <td>Señor Camilo Pedro</td>\n",
       "      <td>117</td>\n",
       "      <td>hombre</td>\n",
       "      <td>73.5</td>\n",
       "      <td>0</td>\n",
       "      <td>0</td>\n",
       "      <td>59258;</td>\n",
       "      <td>1</td>\n",
       "      <td>NaN</td>\n",
       "      <td>fiumark_quilmes</td>\n",
       "    </tr>\n",
       "    <tr>\n",
       "      <th>1</th>\n",
       "      <td>4d</td>\n",
       "      <td>Señora Raquel Angelica</td>\n",
       "      <td>658</td>\n",
       "      <td>mujer</td>\n",
       "      <td>35.0</td>\n",
       "      <td>1</td>\n",
       "      <td>1</td>\n",
       "      <td>586:6;</td>\n",
       "      <td>2</td>\n",
       "      <td>NaN</td>\n",
       "      <td>fiumark_quilmes</td>\n",
       "    </tr>\n",
       "    <tr>\n",
       "      <th>2</th>\n",
       "      <td>normal</td>\n",
       "      <td>Señor Antonio Federico</td>\n",
       "      <td>794</td>\n",
       "      <td>hombre</td>\n",
       "      <td>NaN</td>\n",
       "      <td>0</td>\n",
       "      <td>0</td>\n",
       "      <td>RE\"39822</td>\n",
       "      <td>3</td>\n",
       "      <td>NaN</td>\n",
       "      <td>fiumark_chacarita</td>\n",
       "    </tr>\n",
       "    <tr>\n",
       "      <th>3</th>\n",
       "      <td>4d</td>\n",
       "      <td>Señor Osvaldo Aureliano</td>\n",
       "      <td>455</td>\n",
       "      <td>hombre</td>\n",
       "      <td>NaN</td>\n",
       "      <td>0</td>\n",
       "      <td>0</td>\n",
       "      <td>C17\"4:39</td>\n",
       "      <td>1</td>\n",
       "      <td>NaN</td>\n",
       "      <td>fiumark_palermo</td>\n",
       "    </tr>\n",
       "    <tr>\n",
       "      <th>4</th>\n",
       "      <td>4d</td>\n",
       "      <td>Señorita Rita Eudosia</td>\n",
       "      <td>173</td>\n",
       "      <td>mujer</td>\n",
       "      <td>4.0</td>\n",
       "      <td>1</td>\n",
       "      <td>1</td>\n",
       "      <td>569964</td>\n",
       "      <td>2</td>\n",
       "      <td>NaN</td>\n",
       "      <td>fiumark_palermo</td>\n",
       "    </tr>\n",
       "  </tbody>\n",
       "</table>\n",
       "</div>"
      ],
      "text/plain": [
       "  tipo_de_sala                   nombre  id_usuario  genero  edad  amigos  \\\n",
       "0           4d       Señor Camilo Pedro         117  hombre  73.5       0   \n",
       "1           4d   Señora Raquel Angelica         658   mujer  35.0       1   \n",
       "2       normal   Señor Antonio Federico         794  hombre   NaN       0   \n",
       "3           4d  Señor Osvaldo Aureliano         455  hombre   NaN       0   \n",
       "4           4d    Señorita Rita Eudosia         173   mujer   4.0       1   \n",
       "\n",
       "   parientes id_ticket  precio_ticket fila        nombre_sede  \n",
       "0          0    59258;              1  NaN    fiumark_quilmes  \n",
       "1          1    586:6;              2  NaN    fiumark_quilmes  \n",
       "2          0  RE\"39822              3  NaN  fiumark_chacarita  \n",
       "3          0  C17\"4:39              1  NaN    fiumark_palermo  \n",
       "4          1    569964              2  NaN    fiumark_palermo  "
      ]
     },
     "execution_count": 4,
     "metadata": {},
     "output_type": "execute_result"
    }
   ],
   "source": [
    "# Inspeccionamos las columnas que forman los datos\n",
    "df_datos_encuesta.head()"
   ]
  },
  {
   "cell_type": "code",
   "execution_count": 5,
   "metadata": {},
   "outputs": [
    {
     "data": {
      "text/plain": [
       "(801, 11)"
      ]
     },
     "execution_count": 5,
     "metadata": {},
     "output_type": "execute_result"
    }
   ],
   "source": [
    "# Inspeccionamos las dimensiones iniciales del dataframe\n",
    "df_datos_encuesta.shape"
   ]
  },
  {
   "cell_type": "code",
   "execution_count": 6,
   "metadata": {},
   "outputs": [],
   "source": [
    "# Analizamos la integridad de las columnas amigos y parientes \n",
    "# Verificamos que no tengan valores nulos y que solo tengan valores numericos enteros positivos"
   ]
  },
  {
   "cell_type": "code",
   "execution_count": 7,
   "metadata": {},
   "outputs": [
    {
     "data": {
      "text/plain": [
       "0"
      ]
     },
     "execution_count": 7,
     "metadata": {},
     "output_type": "execute_result"
    }
   ],
   "source": [
    "df_datos_encuesta['amigos'].isnull().sum()"
   ]
  },
  {
   "cell_type": "code",
   "execution_count": 8,
   "metadata": {},
   "outputs": [
    {
     "data": {
      "text/plain": [
       "0"
      ]
     },
     "execution_count": 8,
     "metadata": {},
     "output_type": "execute_result"
    }
   ],
   "source": [
    "df_datos_encuesta['parientes'].isnull().sum()"
   ]
  },
  {
   "cell_type": "code",
   "execution_count": 9,
   "metadata": {},
   "outputs": [
    {
     "data": {
      "text/plain": [
       "0    557\n",
       "1    179\n",
       "2     25\n",
       "4     15\n",
       "3     14\n",
       "8      6\n",
       "5      5\n",
       "Name: amigos, dtype: int64"
      ]
     },
     "execution_count": 9,
     "metadata": {},
     "output_type": "execute_result"
    }
   ],
   "source": [
    "df_datos_encuesta['amigos'].value_counts()"
   ]
  },
  {
   "cell_type": "code",
   "execution_count": 10,
   "metadata": {},
   "outputs": [
    {
     "data": {
      "text/plain": [
       "0    607\n",
       "1    110\n",
       "2     70\n",
       "3      5\n",
       "5      4\n",
       "4      4\n",
       "6      1\n",
       "Name: parientes, dtype: int64"
      ]
     },
     "execution_count": 10,
     "metadata": {},
     "output_type": "execute_result"
    }
   ],
   "source": [
    "df_datos_encuesta['parientes'].value_counts()"
   ]
  },
  {
   "cell_type": "code",
   "execution_count": 11,
   "metadata": {},
   "outputs": [
    {
     "data": {
      "text/plain": [
       "0"
      ]
     },
     "execution_count": 11,
     "metadata": {},
     "output_type": "execute_result"
    }
   ],
   "source": [
    "# Analizamos la columna 'tipo_de_sala'\n",
    "# Verificamos que no tenga valores nulos\n",
    "df_datos_encuesta['tipo_de_sala'].isnull().sum()"
   ]
  },
  {
   "cell_type": "code",
   "execution_count": 12,
   "metadata": {},
   "outputs": [
    {
     "data": {
      "text/plain": [
       "4d        447\n",
       "normal    187\n",
       "3d        167\n",
       "Name: tipo_de_sala, dtype: int64"
      ]
     },
     "execution_count": 12,
     "metadata": {},
     "output_type": "execute_result"
    }
   ],
   "source": [
    "df_datos_encuesta['tipo_de_sala'].value_counts()"
   ]
  },
  {
   "cell_type": "code",
   "execution_count": 13,
   "metadata": {},
   "outputs": [
    {
     "data": {
      "text/plain": [
       "False    801\n",
       "Name: id_usuario, dtype: int64"
      ]
     },
     "execution_count": 13,
     "metadata": {},
     "output_type": "execute_result"
    }
   ],
   "source": [
    "# Analizamos la columna 'id_usuario' es busca de usuarios repetidos\n",
    "df_datos_encuesta['id_usuario'].duplicated(keep=False).value_counts()"
   ]
  },
  {
   "cell_type": "code",
   "execution_count": 14,
   "metadata": {},
   "outputs": [
    {
     "data": {
      "text/plain": [
       "0"
      ]
     },
     "execution_count": 14,
     "metadata": {},
     "output_type": "execute_result"
    }
   ],
   "source": [
    "# Verifico que no tenga valores nulos\n",
    "df_datos_encuesta['id_usuario'].isnull().sum()"
   ]
  },
  {
   "cell_type": "code",
   "execution_count": 15,
   "metadata": {},
   "outputs": [
    {
     "data": {
      "text/plain": [
       "2"
      ]
     },
     "execution_count": 15,
     "metadata": {},
     "output_type": "execute_result"
    }
   ],
   "source": [
    "# Analizamos la columna 'nombre_sede', verificamos que no tenga valores nulos\n",
    "df_datos_encuesta['nombre_sede'].isnull().sum()"
   ]
  },
  {
   "cell_type": "code",
   "execution_count": 16,
   "metadata": {},
   "outputs": [
    {
     "data": {
      "text/plain": [
       "0"
      ]
     },
     "execution_count": 16,
     "metadata": {},
     "output_type": "execute_result"
    }
   ],
   "source": [
    "# Verifico que la columna genero no tenga nulos y solo tenga valores mujer/hombre\n",
    "df_datos_encuesta['genero'].isnull().sum()"
   ]
  },
  {
   "cell_type": "code",
   "execution_count": 17,
   "metadata": {},
   "outputs": [
    {
     "data": {
      "text/plain": [
       "hombre    513\n",
       "mujer     288\n",
       "Name: genero, dtype: int64"
      ]
     },
     "execution_count": 17,
     "metadata": {},
     "output_type": "execute_result"
    }
   ],
   "source": [
    "df_datos_encuesta['genero'].value_counts()"
   ]
  },
  {
   "cell_type": "code",
   "execution_count": 18,
   "metadata": {},
   "outputs": [
    {
     "data": {
      "text/plain": [
       "624"
      ]
     },
     "execution_count": 18,
     "metadata": {},
     "output_type": "execute_result"
    }
   ],
   "source": [
    "# Analizamos la columna 'fila'\n",
    "df_datos_encuesta['fila'].isnull().sum()"
   ]
  },
  {
   "cell_type": "code",
   "execution_count": 19,
   "metadata": {},
   "outputs": [
    {
     "data": {
      "text/plain": [
       "160"
      ]
     },
     "execution_count": 19,
     "metadata": {},
     "output_type": "execute_result"
    }
   ],
   "source": [
    "# Analizamos la columna 'edad' \n",
    "df_datos_encuesta['edad'].isnull().sum()"
   ]
  },
  {
   "cell_type": "markdown",
   "metadata": {},
   "source": [
    "# Transformación de datos de la encuesta\n",
    "Aplicamos los cambios necesarios para realizar una limpieza de los datos, basandonos en el análisis inicial."
   ]
  },
  {
   "cell_type": "code",
   "execution_count": 20,
   "metadata": {},
   "outputs": [],
   "source": [
    "# Eliminamos las columna \"id_ticket\" y \"nombre\" porque no nos aportan información relavante para la predicción\n",
    "df_datos_encuesta.drop(columns=['nombre', 'id_ticket'], inplace=True)"
   ]
  },
  {
   "cell_type": "code",
   "execution_count": 21,
   "metadata": {},
   "outputs": [
    {
     "data": {
      "text/html": [
       "<div>\n",
       "<style scoped>\n",
       "    .dataframe tbody tr th:only-of-type {\n",
       "        vertical-align: middle;\n",
       "    }\n",
       "\n",
       "    .dataframe tbody tr th {\n",
       "        vertical-align: top;\n",
       "    }\n",
       "\n",
       "    .dataframe thead th {\n",
       "        text-align: right;\n",
       "    }\n",
       "</style>\n",
       "<table border=\"1\" class=\"dataframe\">\n",
       "  <thead>\n",
       "    <tr style=\"text-align: right;\">\n",
       "      <th></th>\n",
       "      <th>tipo_de_sala</th>\n",
       "      <th>id_usuario</th>\n",
       "      <th>genero</th>\n",
       "      <th>edad</th>\n",
       "      <th>amigos</th>\n",
       "      <th>parientes</th>\n",
       "      <th>precio_ticket</th>\n",
       "      <th>fila</th>\n",
       "      <th>nombre_sede</th>\n",
       "    </tr>\n",
       "  </thead>\n",
       "  <tbody>\n",
       "    <tr>\n",
       "      <th>0</th>\n",
       "      <td>4d</td>\n",
       "      <td>117</td>\n",
       "      <td>hombre</td>\n",
       "      <td>73.5</td>\n",
       "      <td>0</td>\n",
       "      <td>0</td>\n",
       "      <td>1</td>\n",
       "      <td>NaN</td>\n",
       "      <td>fiumark_quilmes</td>\n",
       "    </tr>\n",
       "    <tr>\n",
       "      <th>1</th>\n",
       "      <td>4d</td>\n",
       "      <td>658</td>\n",
       "      <td>mujer</td>\n",
       "      <td>35.0</td>\n",
       "      <td>1</td>\n",
       "      <td>1</td>\n",
       "      <td>2</td>\n",
       "      <td>NaN</td>\n",
       "      <td>fiumark_quilmes</td>\n",
       "    </tr>\n",
       "    <tr>\n",
       "      <th>2</th>\n",
       "      <td>normal</td>\n",
       "      <td>794</td>\n",
       "      <td>hombre</td>\n",
       "      <td>NaN</td>\n",
       "      <td>0</td>\n",
       "      <td>0</td>\n",
       "      <td>3</td>\n",
       "      <td>NaN</td>\n",
       "      <td>fiumark_chacarita</td>\n",
       "    </tr>\n",
       "    <tr>\n",
       "      <th>3</th>\n",
       "      <td>4d</td>\n",
       "      <td>455</td>\n",
       "      <td>hombre</td>\n",
       "      <td>NaN</td>\n",
       "      <td>0</td>\n",
       "      <td>0</td>\n",
       "      <td>1</td>\n",
       "      <td>NaN</td>\n",
       "      <td>fiumark_palermo</td>\n",
       "    </tr>\n",
       "    <tr>\n",
       "      <th>4</th>\n",
       "      <td>4d</td>\n",
       "      <td>173</td>\n",
       "      <td>mujer</td>\n",
       "      <td>4.0</td>\n",
       "      <td>1</td>\n",
       "      <td>1</td>\n",
       "      <td>2</td>\n",
       "      <td>NaN</td>\n",
       "      <td>fiumark_palermo</td>\n",
       "    </tr>\n",
       "  </tbody>\n",
       "</table>\n",
       "</div>"
      ],
      "text/plain": [
       "  tipo_de_sala  id_usuario  genero  edad  amigos  parientes  precio_ticket  \\\n",
       "0           4d         117  hombre  73.5       0          0              1   \n",
       "1           4d         658   mujer  35.0       1          1              2   \n",
       "2       normal         794  hombre   NaN       0          0              3   \n",
       "3           4d         455  hombre   NaN       0          0              1   \n",
       "4           4d         173   mujer   4.0       1          1              2   \n",
       "\n",
       "  fila        nombre_sede  \n",
       "0  NaN    fiumark_quilmes  \n",
       "1  NaN    fiumark_quilmes  \n",
       "2  NaN  fiumark_chacarita  \n",
       "3  NaN    fiumark_palermo  \n",
       "4  NaN    fiumark_palermo  "
      ]
     },
     "execution_count": 21,
     "metadata": {},
     "output_type": "execute_result"
    }
   ],
   "source": [
    "# DEBUG\n",
    "df_datos_encuesta.head()"
   ]
  },
  {
   "cell_type": "code",
   "execution_count": 22,
   "metadata": {},
   "outputs": [],
   "source": [
    "# Creamos una nueva columna 'cantidad_acompanantes' que sea la suma de la cantidad de amigos y parientes\n",
    "df_datos_encuesta['cantidad_acompanantes'] = df_datos_encuesta['amigos'] + df_datos_encuesta['parientes']"
   ]
  },
  {
   "cell_type": "code",
   "execution_count": 23,
   "metadata": {},
   "outputs": [
    {
     "data": {
      "text/html": [
       "<div>\n",
       "<style scoped>\n",
       "    .dataframe tbody tr th:only-of-type {\n",
       "        vertical-align: middle;\n",
       "    }\n",
       "\n",
       "    .dataframe tbody tr th {\n",
       "        vertical-align: top;\n",
       "    }\n",
       "\n",
       "    .dataframe thead th {\n",
       "        text-align: right;\n",
       "    }\n",
       "</style>\n",
       "<table border=\"1\" class=\"dataframe\">\n",
       "  <thead>\n",
       "    <tr style=\"text-align: right;\">\n",
       "      <th></th>\n",
       "      <th>tipo_de_sala</th>\n",
       "      <th>id_usuario</th>\n",
       "      <th>genero</th>\n",
       "      <th>edad</th>\n",
       "      <th>amigos</th>\n",
       "      <th>parientes</th>\n",
       "      <th>precio_ticket</th>\n",
       "      <th>fila</th>\n",
       "      <th>nombre_sede</th>\n",
       "      <th>cantidad_acompanantes</th>\n",
       "    </tr>\n",
       "  </thead>\n",
       "  <tbody>\n",
       "    <tr>\n",
       "      <th>0</th>\n",
       "      <td>4d</td>\n",
       "      <td>117</td>\n",
       "      <td>hombre</td>\n",
       "      <td>73.5</td>\n",
       "      <td>0</td>\n",
       "      <td>0</td>\n",
       "      <td>1</td>\n",
       "      <td>NaN</td>\n",
       "      <td>fiumark_quilmes</td>\n",
       "      <td>0</td>\n",
       "    </tr>\n",
       "    <tr>\n",
       "      <th>1</th>\n",
       "      <td>4d</td>\n",
       "      <td>658</td>\n",
       "      <td>mujer</td>\n",
       "      <td>35.0</td>\n",
       "      <td>1</td>\n",
       "      <td>1</td>\n",
       "      <td>2</td>\n",
       "      <td>NaN</td>\n",
       "      <td>fiumark_quilmes</td>\n",
       "      <td>2</td>\n",
       "    </tr>\n",
       "    <tr>\n",
       "      <th>2</th>\n",
       "      <td>normal</td>\n",
       "      <td>794</td>\n",
       "      <td>hombre</td>\n",
       "      <td>NaN</td>\n",
       "      <td>0</td>\n",
       "      <td>0</td>\n",
       "      <td>3</td>\n",
       "      <td>NaN</td>\n",
       "      <td>fiumark_chacarita</td>\n",
       "      <td>0</td>\n",
       "    </tr>\n",
       "    <tr>\n",
       "      <th>3</th>\n",
       "      <td>4d</td>\n",
       "      <td>455</td>\n",
       "      <td>hombre</td>\n",
       "      <td>NaN</td>\n",
       "      <td>0</td>\n",
       "      <td>0</td>\n",
       "      <td>1</td>\n",
       "      <td>NaN</td>\n",
       "      <td>fiumark_palermo</td>\n",
       "      <td>0</td>\n",
       "    </tr>\n",
       "    <tr>\n",
       "      <th>4</th>\n",
       "      <td>4d</td>\n",
       "      <td>173</td>\n",
       "      <td>mujer</td>\n",
       "      <td>4.0</td>\n",
       "      <td>1</td>\n",
       "      <td>1</td>\n",
       "      <td>2</td>\n",
       "      <td>NaN</td>\n",
       "      <td>fiumark_palermo</td>\n",
       "      <td>2</td>\n",
       "    </tr>\n",
       "  </tbody>\n",
       "</table>\n",
       "</div>"
      ],
      "text/plain": [
       "  tipo_de_sala  id_usuario  genero  edad  amigos  parientes  precio_ticket  \\\n",
       "0           4d         117  hombre  73.5       0          0              1   \n",
       "1           4d         658   mujer  35.0       1          1              2   \n",
       "2       normal         794  hombre   NaN       0          0              3   \n",
       "3           4d         455  hombre   NaN       0          0              1   \n",
       "4           4d         173   mujer   4.0       1          1              2   \n",
       "\n",
       "  fila        nombre_sede  cantidad_acompanantes  \n",
       "0  NaN    fiumark_quilmes                      0  \n",
       "1  NaN    fiumark_quilmes                      2  \n",
       "2  NaN  fiumark_chacarita                      0  \n",
       "3  NaN    fiumark_palermo                      0  \n",
       "4  NaN    fiumark_palermo                      2  "
      ]
     },
     "execution_count": 23,
     "metadata": {},
     "output_type": "execute_result"
    }
   ],
   "source": [
    "# DEBUG\n",
    "df_datos_encuesta.head()"
   ]
  },
  {
   "cell_type": "code",
   "execution_count": 24,
   "metadata": {},
   "outputs": [],
   "source": [
    "# Elimino las columnas amigos y parientes\n",
    "df_datos_encuesta.drop(columns=['amigos', 'parientes'],axis=1, inplace=True)"
   ]
  },
  {
   "cell_type": "code",
   "execution_count": 25,
   "metadata": {},
   "outputs": [
    {
     "data": {
      "text/html": [
       "<div>\n",
       "<style scoped>\n",
       "    .dataframe tbody tr th:only-of-type {\n",
       "        vertical-align: middle;\n",
       "    }\n",
       "\n",
       "    .dataframe tbody tr th {\n",
       "        vertical-align: top;\n",
       "    }\n",
       "\n",
       "    .dataframe thead th {\n",
       "        text-align: right;\n",
       "    }\n",
       "</style>\n",
       "<table border=\"1\" class=\"dataframe\">\n",
       "  <thead>\n",
       "    <tr style=\"text-align: right;\">\n",
       "      <th></th>\n",
       "      <th>tipo_de_sala</th>\n",
       "      <th>id_usuario</th>\n",
       "      <th>genero</th>\n",
       "      <th>edad</th>\n",
       "      <th>precio_ticket</th>\n",
       "      <th>fila</th>\n",
       "      <th>nombre_sede</th>\n",
       "      <th>cantidad_acompanantes</th>\n",
       "    </tr>\n",
       "  </thead>\n",
       "  <tbody>\n",
       "    <tr>\n",
       "      <th>0</th>\n",
       "      <td>4d</td>\n",
       "      <td>117</td>\n",
       "      <td>hombre</td>\n",
       "      <td>73.5</td>\n",
       "      <td>1</td>\n",
       "      <td>NaN</td>\n",
       "      <td>fiumark_quilmes</td>\n",
       "      <td>0</td>\n",
       "    </tr>\n",
       "    <tr>\n",
       "      <th>1</th>\n",
       "      <td>4d</td>\n",
       "      <td>658</td>\n",
       "      <td>mujer</td>\n",
       "      <td>35.0</td>\n",
       "      <td>2</td>\n",
       "      <td>NaN</td>\n",
       "      <td>fiumark_quilmes</td>\n",
       "      <td>2</td>\n",
       "    </tr>\n",
       "    <tr>\n",
       "      <th>2</th>\n",
       "      <td>normal</td>\n",
       "      <td>794</td>\n",
       "      <td>hombre</td>\n",
       "      <td>NaN</td>\n",
       "      <td>3</td>\n",
       "      <td>NaN</td>\n",
       "      <td>fiumark_chacarita</td>\n",
       "      <td>0</td>\n",
       "    </tr>\n",
       "    <tr>\n",
       "      <th>3</th>\n",
       "      <td>4d</td>\n",
       "      <td>455</td>\n",
       "      <td>hombre</td>\n",
       "      <td>NaN</td>\n",
       "      <td>1</td>\n",
       "      <td>NaN</td>\n",
       "      <td>fiumark_palermo</td>\n",
       "      <td>0</td>\n",
       "    </tr>\n",
       "    <tr>\n",
       "      <th>4</th>\n",
       "      <td>4d</td>\n",
       "      <td>173</td>\n",
       "      <td>mujer</td>\n",
       "      <td>4.0</td>\n",
       "      <td>2</td>\n",
       "      <td>NaN</td>\n",
       "      <td>fiumark_palermo</td>\n",
       "      <td>2</td>\n",
       "    </tr>\n",
       "  </tbody>\n",
       "</table>\n",
       "</div>"
      ],
      "text/plain": [
       "  tipo_de_sala  id_usuario  genero  edad  precio_ticket fila  \\\n",
       "0           4d         117  hombre  73.5              1  NaN   \n",
       "1           4d         658   mujer  35.0              2  NaN   \n",
       "2       normal         794  hombre   NaN              3  NaN   \n",
       "3           4d         455  hombre   NaN              1  NaN   \n",
       "4           4d         173   mujer   4.0              2  NaN   \n",
       "\n",
       "         nombre_sede  cantidad_acompanantes  \n",
       "0    fiumark_quilmes                      0  \n",
       "1    fiumark_quilmes                      2  \n",
       "2  fiumark_chacarita                      0  \n",
       "3    fiumark_palermo                      0  \n",
       "4    fiumark_palermo                      2  "
      ]
     },
     "execution_count": 25,
     "metadata": {},
     "output_type": "execute_result"
    }
   ],
   "source": [
    "# DEBUG\n",
    "df_datos_encuesta.head()"
   ]
  },
  {
   "cell_type": "code",
   "execution_count": 26,
   "metadata": {},
   "outputs": [],
   "source": [
    "# Nos parece relevante si fue acompañado o no, por eso creamos un nueva columna 'fue_acompanado' para falicitar el uso\n",
    "df_datos_encuesta['fue_acompanado'] = df_datos_encuesta['cantidad_acompanantes'].apply(lambda x: 1 if x > 0 else 0)"
   ]
  },
  {
   "cell_type": "code",
   "execution_count": 27,
   "metadata": {},
   "outputs": [
    {
     "data": {
      "text/html": [
       "<div>\n",
       "<style scoped>\n",
       "    .dataframe tbody tr th:only-of-type {\n",
       "        vertical-align: middle;\n",
       "    }\n",
       "\n",
       "    .dataframe tbody tr th {\n",
       "        vertical-align: top;\n",
       "    }\n",
       "\n",
       "    .dataframe thead th {\n",
       "        text-align: right;\n",
       "    }\n",
       "</style>\n",
       "<table border=\"1\" class=\"dataframe\">\n",
       "  <thead>\n",
       "    <tr style=\"text-align: right;\">\n",
       "      <th></th>\n",
       "      <th>tipo_de_sala</th>\n",
       "      <th>id_usuario</th>\n",
       "      <th>genero</th>\n",
       "      <th>edad</th>\n",
       "      <th>precio_ticket</th>\n",
       "      <th>fila</th>\n",
       "      <th>nombre_sede</th>\n",
       "      <th>cantidad_acompanantes</th>\n",
       "      <th>fue_acompanado</th>\n",
       "    </tr>\n",
       "  </thead>\n",
       "  <tbody>\n",
       "    <tr>\n",
       "      <th>0</th>\n",
       "      <td>4d</td>\n",
       "      <td>117</td>\n",
       "      <td>hombre</td>\n",
       "      <td>73.5</td>\n",
       "      <td>1</td>\n",
       "      <td>NaN</td>\n",
       "      <td>fiumark_quilmes</td>\n",
       "      <td>0</td>\n",
       "      <td>0</td>\n",
       "    </tr>\n",
       "    <tr>\n",
       "      <th>1</th>\n",
       "      <td>4d</td>\n",
       "      <td>658</td>\n",
       "      <td>mujer</td>\n",
       "      <td>35.0</td>\n",
       "      <td>2</td>\n",
       "      <td>NaN</td>\n",
       "      <td>fiumark_quilmes</td>\n",
       "      <td>2</td>\n",
       "      <td>1</td>\n",
       "    </tr>\n",
       "    <tr>\n",
       "      <th>2</th>\n",
       "      <td>normal</td>\n",
       "      <td>794</td>\n",
       "      <td>hombre</td>\n",
       "      <td>NaN</td>\n",
       "      <td>3</td>\n",
       "      <td>NaN</td>\n",
       "      <td>fiumark_chacarita</td>\n",
       "      <td>0</td>\n",
       "      <td>0</td>\n",
       "    </tr>\n",
       "    <tr>\n",
       "      <th>3</th>\n",
       "      <td>4d</td>\n",
       "      <td>455</td>\n",
       "      <td>hombre</td>\n",
       "      <td>NaN</td>\n",
       "      <td>1</td>\n",
       "      <td>NaN</td>\n",
       "      <td>fiumark_palermo</td>\n",
       "      <td>0</td>\n",
       "      <td>0</td>\n",
       "    </tr>\n",
       "    <tr>\n",
       "      <th>4</th>\n",
       "      <td>4d</td>\n",
       "      <td>173</td>\n",
       "      <td>mujer</td>\n",
       "      <td>4.0</td>\n",
       "      <td>2</td>\n",
       "      <td>NaN</td>\n",
       "      <td>fiumark_palermo</td>\n",
       "      <td>2</td>\n",
       "      <td>1</td>\n",
       "    </tr>\n",
       "  </tbody>\n",
       "</table>\n",
       "</div>"
      ],
      "text/plain": [
       "  tipo_de_sala  id_usuario  genero  edad  precio_ticket fila  \\\n",
       "0           4d         117  hombre  73.5              1  NaN   \n",
       "1           4d         658   mujer  35.0              2  NaN   \n",
       "2       normal         794  hombre   NaN              3  NaN   \n",
       "3           4d         455  hombre   NaN              1  NaN   \n",
       "4           4d         173   mujer   4.0              2  NaN   \n",
       "\n",
       "         nombre_sede  cantidad_acompanantes  fue_acompanado  \n",
       "0    fiumark_quilmes                      0               0  \n",
       "1    fiumark_quilmes                      2               1  \n",
       "2  fiumark_chacarita                      0               0  \n",
       "3    fiumark_palermo                      0               0  \n",
       "4    fiumark_palermo                      2               1  "
      ]
     },
     "execution_count": 27,
     "metadata": {},
     "output_type": "execute_result"
    }
   ],
   "source": [
    "# DEBUG\n",
    "df_datos_encuesta.head()"
   ]
  },
  {
   "cell_type": "code",
   "execution_count": 28,
   "metadata": {},
   "outputs": [],
   "source": [
    "# Reemplazamos normal por 2d\n",
    "df_datos_encuesta['tipo_de_sala'].replace(to_replace='normal', value='2d', inplace=True)"
   ]
  },
  {
   "cell_type": "code",
   "execution_count": 29,
   "metadata": {},
   "outputs": [
    {
     "data": {
      "text/plain": [
       "4d    447\n",
       "2d    187\n",
       "3d    167\n",
       "Name: tipo_de_sala, dtype: int64"
      ]
     },
     "execution_count": 29,
     "metadata": {},
     "output_type": "execute_result"
    }
   ],
   "source": [
    "# DEBUG\n",
    "df_datos_encuesta['tipo_de_sala'].value_counts()"
   ]
  },
  {
   "cell_type": "code",
   "execution_count": 30,
   "metadata": {},
   "outputs": [
    {
     "data": {
      "text/html": [
       "<div>\n",
       "<style scoped>\n",
       "    .dataframe tbody tr th:only-of-type {\n",
       "        vertical-align: middle;\n",
       "    }\n",
       "\n",
       "    .dataframe tbody tr th {\n",
       "        vertical-align: top;\n",
       "    }\n",
       "\n",
       "    .dataframe thead th {\n",
       "        text-align: right;\n",
       "    }\n",
       "</style>\n",
       "<table border=\"1\" class=\"dataframe\">\n",
       "  <thead>\n",
       "    <tr style=\"text-align: right;\">\n",
       "      <th></th>\n",
       "      <th>tipo_de_sala</th>\n",
       "      <th>id_usuario</th>\n",
       "      <th>genero</th>\n",
       "      <th>edad</th>\n",
       "      <th>precio_ticket</th>\n",
       "      <th>fila</th>\n",
       "      <th>nombre_sede</th>\n",
       "      <th>cantidad_acompanantes</th>\n",
       "      <th>fue_acompanado</th>\n",
       "    </tr>\n",
       "  </thead>\n",
       "  <tbody>\n",
       "    <tr>\n",
       "      <th>0</th>\n",
       "      <td>4d</td>\n",
       "      <td>117</td>\n",
       "      <td>hombre</td>\n",
       "      <td>73.5</td>\n",
       "      <td>1</td>\n",
       "      <td>NaN</td>\n",
       "      <td>fiumark_quilmes</td>\n",
       "      <td>0</td>\n",
       "      <td>0</td>\n",
       "    </tr>\n",
       "    <tr>\n",
       "      <th>1</th>\n",
       "      <td>4d</td>\n",
       "      <td>658</td>\n",
       "      <td>mujer</td>\n",
       "      <td>35.0</td>\n",
       "      <td>2</td>\n",
       "      <td>NaN</td>\n",
       "      <td>fiumark_quilmes</td>\n",
       "      <td>2</td>\n",
       "      <td>1</td>\n",
       "    </tr>\n",
       "    <tr>\n",
       "      <th>2</th>\n",
       "      <td>2d</td>\n",
       "      <td>794</td>\n",
       "      <td>hombre</td>\n",
       "      <td>NaN</td>\n",
       "      <td>3</td>\n",
       "      <td>NaN</td>\n",
       "      <td>fiumark_chacarita</td>\n",
       "      <td>0</td>\n",
       "      <td>0</td>\n",
       "    </tr>\n",
       "    <tr>\n",
       "      <th>3</th>\n",
       "      <td>4d</td>\n",
       "      <td>455</td>\n",
       "      <td>hombre</td>\n",
       "      <td>NaN</td>\n",
       "      <td>1</td>\n",
       "      <td>NaN</td>\n",
       "      <td>fiumark_palermo</td>\n",
       "      <td>0</td>\n",
       "      <td>0</td>\n",
       "    </tr>\n",
       "    <tr>\n",
       "      <th>4</th>\n",
       "      <td>4d</td>\n",
       "      <td>173</td>\n",
       "      <td>mujer</td>\n",
       "      <td>4.0</td>\n",
       "      <td>2</td>\n",
       "      <td>NaN</td>\n",
       "      <td>fiumark_palermo</td>\n",
       "      <td>2</td>\n",
       "      <td>1</td>\n",
       "    </tr>\n",
       "  </tbody>\n",
       "</table>\n",
       "</div>"
      ],
      "text/plain": [
       "  tipo_de_sala  id_usuario  genero  edad  precio_ticket fila  \\\n",
       "0           4d         117  hombre  73.5              1  NaN   \n",
       "1           4d         658   mujer  35.0              2  NaN   \n",
       "2           2d         794  hombre   NaN              3  NaN   \n",
       "3           4d         455  hombre   NaN              1  NaN   \n",
       "4           4d         173   mujer   4.0              2  NaN   \n",
       "\n",
       "         nombre_sede  cantidad_acompanantes  fue_acompanado  \n",
       "0    fiumark_quilmes                      0               0  \n",
       "1    fiumark_quilmes                      2               1  \n",
       "2  fiumark_chacarita                      0               0  \n",
       "3    fiumark_palermo                      0               0  \n",
       "4    fiumark_palermo                      2               1  "
      ]
     },
     "execution_count": 30,
     "metadata": {},
     "output_type": "execute_result"
    }
   ],
   "source": [
    "# DEBUG\n",
    "df_datos_encuesta.head()"
   ]
  },
  {
   "cell_type": "code",
   "execution_count": 31,
   "metadata": {},
   "outputs": [],
   "source": [
    "# Quito 'fiumark' del nombre de la sede, para una mejor visualizacion en los graficos\n",
    "df_datos_encuesta.replace(to_replace = 'fiumark_quilmes', value ='Quilmes', inplace=True) \n",
    "df_datos_encuesta.replace(to_replace = 'fiumark_chacarita', value ='Chacarita', inplace=True) \n",
    "df_datos_encuesta.replace(to_replace = 'fiumark_palermo', value ='Palermo', inplace=True) "
   ]
  },
  {
   "cell_type": "code",
   "execution_count": 32,
   "metadata": {},
   "outputs": [
    {
     "data": {
      "text/html": [
       "<div>\n",
       "<style scoped>\n",
       "    .dataframe tbody tr th:only-of-type {\n",
       "        vertical-align: middle;\n",
       "    }\n",
       "\n",
       "    .dataframe tbody tr th {\n",
       "        vertical-align: top;\n",
       "    }\n",
       "\n",
       "    .dataframe thead th {\n",
       "        text-align: right;\n",
       "    }\n",
       "</style>\n",
       "<table border=\"1\" class=\"dataframe\">\n",
       "  <thead>\n",
       "    <tr style=\"text-align: right;\">\n",
       "      <th></th>\n",
       "      <th>tipo_de_sala</th>\n",
       "      <th>id_usuario</th>\n",
       "      <th>genero</th>\n",
       "      <th>edad</th>\n",
       "      <th>precio_ticket</th>\n",
       "      <th>fila</th>\n",
       "      <th>nombre_sede</th>\n",
       "      <th>cantidad_acompanantes</th>\n",
       "      <th>fue_acompanado</th>\n",
       "    </tr>\n",
       "  </thead>\n",
       "  <tbody>\n",
       "    <tr>\n",
       "      <th>0</th>\n",
       "      <td>4d</td>\n",
       "      <td>117</td>\n",
       "      <td>hombre</td>\n",
       "      <td>73.5</td>\n",
       "      <td>1</td>\n",
       "      <td>NaN</td>\n",
       "      <td>Quilmes</td>\n",
       "      <td>0</td>\n",
       "      <td>0</td>\n",
       "    </tr>\n",
       "    <tr>\n",
       "      <th>1</th>\n",
       "      <td>4d</td>\n",
       "      <td>658</td>\n",
       "      <td>mujer</td>\n",
       "      <td>35.0</td>\n",
       "      <td>2</td>\n",
       "      <td>NaN</td>\n",
       "      <td>Quilmes</td>\n",
       "      <td>2</td>\n",
       "      <td>1</td>\n",
       "    </tr>\n",
       "    <tr>\n",
       "      <th>2</th>\n",
       "      <td>2d</td>\n",
       "      <td>794</td>\n",
       "      <td>hombre</td>\n",
       "      <td>NaN</td>\n",
       "      <td>3</td>\n",
       "      <td>NaN</td>\n",
       "      <td>Chacarita</td>\n",
       "      <td>0</td>\n",
       "      <td>0</td>\n",
       "    </tr>\n",
       "    <tr>\n",
       "      <th>3</th>\n",
       "      <td>4d</td>\n",
       "      <td>455</td>\n",
       "      <td>hombre</td>\n",
       "      <td>NaN</td>\n",
       "      <td>1</td>\n",
       "      <td>NaN</td>\n",
       "      <td>Palermo</td>\n",
       "      <td>0</td>\n",
       "      <td>0</td>\n",
       "    </tr>\n",
       "    <tr>\n",
       "      <th>4</th>\n",
       "      <td>4d</td>\n",
       "      <td>173</td>\n",
       "      <td>mujer</td>\n",
       "      <td>4.0</td>\n",
       "      <td>2</td>\n",
       "      <td>NaN</td>\n",
       "      <td>Palermo</td>\n",
       "      <td>2</td>\n",
       "      <td>1</td>\n",
       "    </tr>\n",
       "  </tbody>\n",
       "</table>\n",
       "</div>"
      ],
      "text/plain": [
       "  tipo_de_sala  id_usuario  genero  edad  precio_ticket fila nombre_sede  \\\n",
       "0           4d         117  hombre  73.5              1  NaN     Quilmes   \n",
       "1           4d         658   mujer  35.0              2  NaN     Quilmes   \n",
       "2           2d         794  hombre   NaN              3  NaN   Chacarita   \n",
       "3           4d         455  hombre   NaN              1  NaN     Palermo   \n",
       "4           4d         173   mujer   4.0              2  NaN     Palermo   \n",
       "\n",
       "   cantidad_acompanantes  fue_acompanado  \n",
       "0                      0               0  \n",
       "1                      2               1  \n",
       "2                      0               0  \n",
       "3                      0               0  \n",
       "4                      2               1  "
      ]
     },
     "execution_count": 32,
     "metadata": {},
     "output_type": "execute_result"
    }
   ],
   "source": [
    "# DEBUG\n",
    "df_datos_encuesta.head()"
   ]
  },
  {
   "cell_type": "code",
   "execution_count": 33,
   "metadata": {},
   "outputs": [],
   "source": [
    "# En este caso como vimos en el análisis solo tiene 2 filas con valores null las descartamos\n",
    "bool_nombre_sede = pd.notnull(df_datos_encuesta['nombre_sede'])  \n",
    "df_datos_encuesta = df_datos_encuesta[bool_nombre_sede]  "
   ]
  },
  {
   "cell_type": "code",
   "execution_count": 34,
   "metadata": {},
   "outputs": [
    {
     "data": {
      "text/plain": [
       "Palermo      579\n",
       "Chacarita    149\n",
       "Quilmes       71\n",
       "Name: nombre_sede, dtype: int64"
      ]
     },
     "execution_count": 34,
     "metadata": {},
     "output_type": "execute_result"
    }
   ],
   "source": [
    "df_datos_encuesta['nombre_sede'].value_counts()"
   ]
  },
  {
   "cell_type": "code",
   "execution_count": 35,
   "metadata": {},
   "outputs": [
    {
     "data": {
      "text/plain": [
       "(799, 9)"
      ]
     },
     "execution_count": 35,
     "metadata": {},
     "output_type": "execute_result"
    }
   ],
   "source": [
    "# DEBUG\n",
    "df_datos_encuesta.shape"
   ]
  },
  {
   "cell_type": "code",
   "execution_count": 36,
   "metadata": {},
   "outputs": [],
   "source": [
    "# Como la mayoria de los valores de la columna fila son nulos decidimos eliminarla\n",
    "df_datos_encuesta.drop(columns='fila', inplace=True)"
   ]
  },
  {
   "cell_type": "code",
   "execution_count": 37,
   "metadata": {},
   "outputs": [
    {
     "data": {
      "text/html": [
       "<div>\n",
       "<style scoped>\n",
       "    .dataframe tbody tr th:only-of-type {\n",
       "        vertical-align: middle;\n",
       "    }\n",
       "\n",
       "    .dataframe tbody tr th {\n",
       "        vertical-align: top;\n",
       "    }\n",
       "\n",
       "    .dataframe thead th {\n",
       "        text-align: right;\n",
       "    }\n",
       "</style>\n",
       "<table border=\"1\" class=\"dataframe\">\n",
       "  <thead>\n",
       "    <tr style=\"text-align: right;\">\n",
       "      <th></th>\n",
       "      <th>tipo_de_sala</th>\n",
       "      <th>id_usuario</th>\n",
       "      <th>genero</th>\n",
       "      <th>edad</th>\n",
       "      <th>precio_ticket</th>\n",
       "      <th>nombre_sede</th>\n",
       "      <th>cantidad_acompanantes</th>\n",
       "      <th>fue_acompanado</th>\n",
       "    </tr>\n",
       "  </thead>\n",
       "  <tbody>\n",
       "    <tr>\n",
       "      <th>0</th>\n",
       "      <td>4d</td>\n",
       "      <td>117</td>\n",
       "      <td>hombre</td>\n",
       "      <td>73.5</td>\n",
       "      <td>1</td>\n",
       "      <td>Quilmes</td>\n",
       "      <td>0</td>\n",
       "      <td>0</td>\n",
       "    </tr>\n",
       "    <tr>\n",
       "      <th>1</th>\n",
       "      <td>4d</td>\n",
       "      <td>658</td>\n",
       "      <td>mujer</td>\n",
       "      <td>35.0</td>\n",
       "      <td>2</td>\n",
       "      <td>Quilmes</td>\n",
       "      <td>2</td>\n",
       "      <td>1</td>\n",
       "    </tr>\n",
       "    <tr>\n",
       "      <th>2</th>\n",
       "      <td>2d</td>\n",
       "      <td>794</td>\n",
       "      <td>hombre</td>\n",
       "      <td>NaN</td>\n",
       "      <td>3</td>\n",
       "      <td>Chacarita</td>\n",
       "      <td>0</td>\n",
       "      <td>0</td>\n",
       "    </tr>\n",
       "    <tr>\n",
       "      <th>3</th>\n",
       "      <td>4d</td>\n",
       "      <td>455</td>\n",
       "      <td>hombre</td>\n",
       "      <td>NaN</td>\n",
       "      <td>1</td>\n",
       "      <td>Palermo</td>\n",
       "      <td>0</td>\n",
       "      <td>0</td>\n",
       "    </tr>\n",
       "    <tr>\n",
       "      <th>4</th>\n",
       "      <td>4d</td>\n",
       "      <td>173</td>\n",
       "      <td>mujer</td>\n",
       "      <td>4.0</td>\n",
       "      <td>2</td>\n",
       "      <td>Palermo</td>\n",
       "      <td>2</td>\n",
       "      <td>1</td>\n",
       "    </tr>\n",
       "  </tbody>\n",
       "</table>\n",
       "</div>"
      ],
      "text/plain": [
       "  tipo_de_sala  id_usuario  genero  edad  precio_ticket nombre_sede  \\\n",
       "0           4d         117  hombre  73.5              1     Quilmes   \n",
       "1           4d         658   mujer  35.0              2     Quilmes   \n",
       "2           2d         794  hombre   NaN              3   Chacarita   \n",
       "3           4d         455  hombre   NaN              1     Palermo   \n",
       "4           4d         173   mujer   4.0              2     Palermo   \n",
       "\n",
       "   cantidad_acompanantes  fue_acompanado  \n",
       "0                      0               0  \n",
       "1                      2               1  \n",
       "2                      0               0  \n",
       "3                      0               0  \n",
       "4                      2               1  "
      ]
     },
     "execution_count": 37,
     "metadata": {},
     "output_type": "execute_result"
    }
   ],
   "source": [
    "# DEBUG\n",
    "df_datos_encuesta.head()"
   ]
  },
  {
   "cell_type": "code",
   "execution_count": 38,
   "metadata": {},
   "outputs": [],
   "source": [
    "# La columna edad tiene un faltante de 160 filas, la variable \"edad\" es de tipo MNAR (es dependiente de los datos no observados)\n",
    "# Al no tener una forma de imputarla a partir de las variables observadas decidimos eliminar las filas con edad nula\n",
    "bool_tiene_edad = pd.notnull(df_datos_encuesta['edad'])  \n",
    "df_datos_encuesta = df_datos_encuesta[bool_tiene_edad]  "
   ]
  },
  {
   "cell_type": "code",
   "execution_count": 39,
   "metadata": {},
   "outputs": [],
   "source": [
    "# Redondeo los valores\n",
    "df_datos_encuesta['edad'] = df_datos_encuesta['edad'].round(0).astype(int)"
   ]
  },
  {
   "cell_type": "markdown",
   "metadata": {},
   "source": [
    "# Análisis y transformación de dataframe con resultados\n",
    "Importamos dataframe con los resultados de la encuesta, realizamos un análisis de los datos y mergeamos el mismo con el dataframe de los datos de la encuesta."
   ]
  },
  {
   "cell_type": "code",
   "execution_count": 40,
   "metadata": {},
   "outputs": [],
   "source": [
    "df_encuesta = GetEncuesta()"
   ]
  },
  {
   "cell_type": "code",
   "execution_count": 41,
   "metadata": {},
   "outputs": [
    {
     "data": {
      "text/html": [
       "<div>\n",
       "<style scoped>\n",
       "    .dataframe tbody tr th:only-of-type {\n",
       "        vertical-align: middle;\n",
       "    }\n",
       "\n",
       "    .dataframe tbody tr th {\n",
       "        vertical-align: top;\n",
       "    }\n",
       "\n",
       "    .dataframe thead th {\n",
       "        text-align: right;\n",
       "    }\n",
       "</style>\n",
       "<table border=\"1\" class=\"dataframe\">\n",
       "  <thead>\n",
       "    <tr style=\"text-align: right;\">\n",
       "      <th></th>\n",
       "      <th>id_usuario</th>\n",
       "      <th>volveria</th>\n",
       "    </tr>\n",
       "  </thead>\n",
       "  <tbody>\n",
       "    <tr>\n",
       "      <th>0</th>\n",
       "      <td>117</td>\n",
       "      <td>0</td>\n",
       "    </tr>\n",
       "    <tr>\n",
       "      <th>1</th>\n",
       "      <td>658</td>\n",
       "      <td>0</td>\n",
       "    </tr>\n",
       "    <tr>\n",
       "      <th>2</th>\n",
       "      <td>794</td>\n",
       "      <td>0</td>\n",
       "    </tr>\n",
       "    <tr>\n",
       "      <th>3</th>\n",
       "      <td>455</td>\n",
       "      <td>0</td>\n",
       "    </tr>\n",
       "    <tr>\n",
       "      <th>4</th>\n",
       "      <td>173</td>\n",
       "      <td>1</td>\n",
       "    </tr>\n",
       "  </tbody>\n",
       "</table>\n",
       "</div>"
      ],
      "text/plain": [
       "   id_usuario  volveria\n",
       "0         117         0\n",
       "1         658         0\n",
       "2         794         0\n",
       "3         455         0\n",
       "4         173         1"
      ]
     },
     "execution_count": 41,
     "metadata": {},
     "output_type": "execute_result"
    }
   ],
   "source": [
    "# Analizamos el dataframe df_encuesta, verificando que no tenga valores null\n",
    "df_encuesta.head()"
   ]
  },
  {
   "cell_type": "code",
   "execution_count": 42,
   "metadata": {},
   "outputs": [
    {
     "data": {
      "text/plain": [
       "(801, 2)"
      ]
     },
     "execution_count": 42,
     "metadata": {},
     "output_type": "execute_result"
    }
   ],
   "source": [
    "df_encuesta.shape"
   ]
  },
  {
   "cell_type": "code",
   "execution_count": 43,
   "metadata": {},
   "outputs": [
    {
     "data": {
      "text/plain": [
       "id_usuario    0\n",
       "volveria      0\n",
       "dtype: int64"
      ]
     },
     "execution_count": 43,
     "metadata": {},
     "output_type": "execute_result"
    }
   ],
   "source": [
    "df_encuesta.isnull().sum()"
   ]
  },
  {
   "cell_type": "code",
   "execution_count": 44,
   "metadata": {},
   "outputs": [
    {
     "data": {
      "text/plain": [
       "False    801\n",
       "Name: id_usuario, dtype: int64"
      ]
     },
     "execution_count": 44,
     "metadata": {},
     "output_type": "execute_result"
    }
   ],
   "source": [
    "# Analizamos la columna 'id_usuario' es busca de usuarios repetidos\n",
    "df_encuesta['id_usuario'].duplicated(keep=False).value_counts()"
   ]
  },
  {
   "cell_type": "code",
   "execution_count": 45,
   "metadata": {},
   "outputs": [],
   "source": [
    "# Mergeamos los dataframe\n",
    "df = pd.merge(left = df_datos_encuesta, right = df_encuesta, how = 'inner', on = 'id_usuario')"
   ]
  },
  {
   "cell_type": "code",
   "execution_count": 46,
   "metadata": {},
   "outputs": [
    {
     "data": {
      "text/html": [
       "<div>\n",
       "<style scoped>\n",
       "    .dataframe tbody tr th:only-of-type {\n",
       "        vertical-align: middle;\n",
       "    }\n",
       "\n",
       "    .dataframe tbody tr th {\n",
       "        vertical-align: top;\n",
       "    }\n",
       "\n",
       "    .dataframe thead th {\n",
       "        text-align: right;\n",
       "    }\n",
       "</style>\n",
       "<table border=\"1\" class=\"dataframe\">\n",
       "  <thead>\n",
       "    <tr style=\"text-align: right;\">\n",
       "      <th></th>\n",
       "      <th>tipo_de_sala</th>\n",
       "      <th>id_usuario</th>\n",
       "      <th>genero</th>\n",
       "      <th>edad</th>\n",
       "      <th>precio_ticket</th>\n",
       "      <th>nombre_sede</th>\n",
       "      <th>cantidad_acompanantes</th>\n",
       "      <th>fue_acompanado</th>\n",
       "      <th>volveria</th>\n",
       "    </tr>\n",
       "  </thead>\n",
       "  <tbody>\n",
       "    <tr>\n",
       "      <th>0</th>\n",
       "      <td>4d</td>\n",
       "      <td>117</td>\n",
       "      <td>hombre</td>\n",
       "      <td>74</td>\n",
       "      <td>1</td>\n",
       "      <td>Quilmes</td>\n",
       "      <td>0</td>\n",
       "      <td>0</td>\n",
       "      <td>0</td>\n",
       "    </tr>\n",
       "    <tr>\n",
       "      <th>1</th>\n",
       "      <td>4d</td>\n",
       "      <td>658</td>\n",
       "      <td>mujer</td>\n",
       "      <td>35</td>\n",
       "      <td>2</td>\n",
       "      <td>Quilmes</td>\n",
       "      <td>2</td>\n",
       "      <td>1</td>\n",
       "      <td>0</td>\n",
       "    </tr>\n",
       "    <tr>\n",
       "      <th>2</th>\n",
       "      <td>4d</td>\n",
       "      <td>173</td>\n",
       "      <td>mujer</td>\n",
       "      <td>4</td>\n",
       "      <td>2</td>\n",
       "      <td>Palermo</td>\n",
       "      <td>2</td>\n",
       "      <td>1</td>\n",
       "      <td>1</td>\n",
       "    </tr>\n",
       "    <tr>\n",
       "      <th>3</th>\n",
       "      <td>4d</td>\n",
       "      <td>91</td>\n",
       "      <td>hombre</td>\n",
       "      <td>32</td>\n",
       "      <td>1</td>\n",
       "      <td>Palermo</td>\n",
       "      <td>0</td>\n",
       "      <td>0</td>\n",
       "      <td>0</td>\n",
       "    </tr>\n",
       "    <tr>\n",
       "      <th>4</th>\n",
       "      <td>2d</td>\n",
       "      <td>225</td>\n",
       "      <td>hombre</td>\n",
       "      <td>41</td>\n",
       "      <td>9</td>\n",
       "      <td>Palermo</td>\n",
       "      <td>1</td>\n",
       "      <td>1</td>\n",
       "      <td>1</td>\n",
       "    </tr>\n",
       "  </tbody>\n",
       "</table>\n",
       "</div>"
      ],
      "text/plain": [
       "  tipo_de_sala  id_usuario  genero  edad  precio_ticket nombre_sede  \\\n",
       "0           4d         117  hombre    74              1     Quilmes   \n",
       "1           4d         658   mujer    35              2     Quilmes   \n",
       "2           4d         173   mujer     4              2     Palermo   \n",
       "3           4d          91  hombre    32              1     Palermo   \n",
       "4           2d         225  hombre    41              9     Palermo   \n",
       "\n",
       "   cantidad_acompanantes  fue_acompanado  volveria  \n",
       "0                      0               0         0  \n",
       "1                      2               1         0  \n",
       "2                      2               1         1  \n",
       "3                      0               0         0  \n",
       "4                      1               1         1  "
      ]
     },
     "execution_count": 46,
     "metadata": {},
     "output_type": "execute_result"
    }
   ],
   "source": [
    "df.head()"
   ]
  },
  {
   "cell_type": "code",
   "execution_count": 47,
   "metadata": {},
   "outputs": [
    {
     "data": {
      "text/plain": [
       "(639, 9)"
      ]
     },
     "execution_count": 47,
     "metadata": {},
     "output_type": "execute_result"
    }
   ],
   "source": [
    "# DEBUG\n",
    "df.shape"
   ]
  },
  {
   "cell_type": "code",
   "execution_count": 48,
   "metadata": {},
   "outputs": [],
   "source": [
    "# Elimino la columna id_usuario, porque ya no nos aporta informacion\n",
    "df.drop(columns=['id_usuario'], axis=1, inplace=True)"
   ]
  },
  {
   "cell_type": "code",
   "execution_count": 49,
   "metadata": {},
   "outputs": [
    {
     "data": {
      "text/html": [
       "<div>\n",
       "<style scoped>\n",
       "    .dataframe tbody tr th:only-of-type {\n",
       "        vertical-align: middle;\n",
       "    }\n",
       "\n",
       "    .dataframe tbody tr th {\n",
       "        vertical-align: top;\n",
       "    }\n",
       "\n",
       "    .dataframe thead th {\n",
       "        text-align: right;\n",
       "    }\n",
       "</style>\n",
       "<table border=\"1\" class=\"dataframe\">\n",
       "  <thead>\n",
       "    <tr style=\"text-align: right;\">\n",
       "      <th></th>\n",
       "      <th>tipo_de_sala</th>\n",
       "      <th>genero</th>\n",
       "      <th>edad</th>\n",
       "      <th>precio_ticket</th>\n",
       "      <th>nombre_sede</th>\n",
       "      <th>cantidad_acompanantes</th>\n",
       "      <th>fue_acompanado</th>\n",
       "      <th>volveria</th>\n",
       "    </tr>\n",
       "  </thead>\n",
       "  <tbody>\n",
       "    <tr>\n",
       "      <th>0</th>\n",
       "      <td>4d</td>\n",
       "      <td>hombre</td>\n",
       "      <td>74</td>\n",
       "      <td>1</td>\n",
       "      <td>Quilmes</td>\n",
       "      <td>0</td>\n",
       "      <td>0</td>\n",
       "      <td>0</td>\n",
       "    </tr>\n",
       "    <tr>\n",
       "      <th>1</th>\n",
       "      <td>4d</td>\n",
       "      <td>mujer</td>\n",
       "      <td>35</td>\n",
       "      <td>2</td>\n",
       "      <td>Quilmes</td>\n",
       "      <td>2</td>\n",
       "      <td>1</td>\n",
       "      <td>0</td>\n",
       "    </tr>\n",
       "    <tr>\n",
       "      <th>2</th>\n",
       "      <td>4d</td>\n",
       "      <td>mujer</td>\n",
       "      <td>4</td>\n",
       "      <td>2</td>\n",
       "      <td>Palermo</td>\n",
       "      <td>2</td>\n",
       "      <td>1</td>\n",
       "      <td>1</td>\n",
       "    </tr>\n",
       "    <tr>\n",
       "      <th>3</th>\n",
       "      <td>4d</td>\n",
       "      <td>hombre</td>\n",
       "      <td>32</td>\n",
       "      <td>1</td>\n",
       "      <td>Palermo</td>\n",
       "      <td>0</td>\n",
       "      <td>0</td>\n",
       "      <td>0</td>\n",
       "    </tr>\n",
       "    <tr>\n",
       "      <th>4</th>\n",
       "      <td>2d</td>\n",
       "      <td>hombre</td>\n",
       "      <td>41</td>\n",
       "      <td>9</td>\n",
       "      <td>Palermo</td>\n",
       "      <td>1</td>\n",
       "      <td>1</td>\n",
       "      <td>1</td>\n",
       "    </tr>\n",
       "  </tbody>\n",
       "</table>\n",
       "</div>"
      ],
      "text/plain": [
       "  tipo_de_sala  genero  edad  precio_ticket nombre_sede  \\\n",
       "0           4d  hombre    74              1     Quilmes   \n",
       "1           4d   mujer    35              2     Quilmes   \n",
       "2           4d   mujer     4              2     Palermo   \n",
       "3           4d  hombre    32              1     Palermo   \n",
       "4           2d  hombre    41              9     Palermo   \n",
       "\n",
       "   cantidad_acompanantes  fue_acompanado  volveria  \n",
       "0                      0               0         0  \n",
       "1                      2               1         0  \n",
       "2                      2               1         1  \n",
       "3                      0               0         0  \n",
       "4                      1               1         1  "
      ]
     },
     "execution_count": 49,
     "metadata": {},
     "output_type": "execute_result"
    }
   ],
   "source": [
    "# DEBUG\n",
    "df.head()"
   ]
  },
  {
   "cell_type": "markdown",
   "metadata": {},
   "source": [
    "# Gráficos"
   ]
  },
  {
   "cell_type": "code",
   "execution_count": 50,
   "metadata": {},
   "outputs": [
    {
     "data": {
      "text/plain": [
       "<AxesSubplot:ylabel='¿Volvería?'>"
      ]
     },
     "execution_count": 50,
     "metadata": {},
     "output_type": "execute_result"
    },
    {
     "data": {
      "image/png": "[encoded data removed]",
      "text/plain": [
       "<Figure size 510x340 with 1 Axes>"
      ]
     },
     "metadata": {},
     "output_type": "display_data"
    }
   ],
   "source": [
    "# Vemos en porcentaje si las personas volverían o no\n",
    "plt.figure(dpi=85)\n",
    "df.volveria.replace(to_replace=[True, False], value=[\"Sí\", \"No\"]).value_counts().plot(kind='pie', autopct='%1.0f%%', ylabel='¿Volvería?')"
   ]
  },
  {
   "cell_type": "markdown",
   "metadata": {},
   "source": [
    "Podemos apreciar que la mayoría de los espectadores no volverían"
   ]
  },
  {
   "cell_type": "code",
   "execution_count": 51,
   "metadata": {},
   "outputs": [
    {
     "data": {
      "text/plain": [
       "<AxesSubplot:title={'center':'Cantidad de espectadores por tipo de sala'}, xlabel='Tipo de sala', ylabel='Cantidad de espectadores'>"
      ]
     },
     "execution_count": 51,
     "metadata": {},
     "output_type": "execute_result"
    },
    {
     "data": {
      "image/png": "[encoded data removed]",
      "text/plain": [
       "<Figure size 432x288 with 1 Axes>"
      ]
     },
     "metadata": {
      "needs_background": "light"
     },
     "output_type": "display_data"
    }
   ],
   "source": [
    "df['tipo_de_sala'].value_counts().sort_values(ascending=False) \\\n",
    ".plot(title = 'Cantidad de espectadores por tipo de sala', \n",
    "      xlabel = 'Tipo de sala', \n",
    "      ylabel = 'Cantidad de espectadores',\n",
    "      kind='bar')"
   ]
  },
  {
   "cell_type": "markdown",
   "metadata": {},
   "source": [
    "Graficamente vemos que la mayoria de los encuestados concurrieron a salas 4D"
   ]
  },
  {
   "cell_type": "code",
   "execution_count": 52,
   "metadata": {},
   "outputs": [
    {
     "data": {
      "text/plain": [
       "<AxesSubplot:title={'center':'Porcentaje de espectadores por sede'}>"
      ]
     },
     "execution_count": 52,
     "metadata": {},
     "output_type": "execute_result"
    },
    {
     "data": {
      "image/png": "[encoded data removed]",
      "text/plain": [
       "<Figure size 432x288 with 1 Axes>"
      ]
     },
     "metadata": {},
     "output_type": "display_data"
    }
   ],
   "source": [
    "df['nombre_sede'].value_counts().sort_values(ascending=False) \\\n",
    ".plot(title = 'Porcentaje de espectadores por sede', \n",
    "      ylabel = '',\n",
    "      kind='pie', \n",
    "      autopct='%1.0f%%')"
   ]
  },
  {
   "cell_type": "markdown",
   "metadata": {},
   "source": [
    "La mayoría de las personas concurrieron a la sede de Palermo"
   ]
  },
  {
   "cell_type": "code",
   "execution_count": 53,
   "metadata": {},
   "outputs": [
    {
     "data": {
      "text/plain": [
       "<Figure size 900x600 with 0 Axes>"
      ]
     },
     "metadata": {},
     "output_type": "display_data"
    },
    {
     "data": {
      "image/png": "[encoded data removed]",
      "text/plain": [
       "<Figure size 360x360 with 1 Axes>"
      ]
     },
     "metadata": {
      "needs_background": "light"
     },
     "output_type": "display_data"
    }
   ],
   "source": [
    "# Comparamos la sala a la que fueron y la decisión de volver\n",
    "plt.figure(dpi=150)\n",
    "df_aux = df[[\"volveria\", \"tipo_de_sala\"]].value_counts().reset_index()\n",
    "df_aux.columns.values[2] = 'count'\n",
    "df_aux.volveria.replace(to_replace=[True, False], value=[\"Sí\", \"No\"], inplace=True)\n",
    "\n",
    "sns.catplot(data=df_aux, x='tipo_de_sala', y='count', hue='volveria', kind='bar', \n",
    "                legend=False, order=['2d', '3d', '4d'])\n",
    "\n",
    "plt.legend(title = \"Volvería\")\n",
    "plt.ylabel(\"Cantidad de espectadores\")\n",
    "plt.xlabel(\"Tipo de sala\")\n",
    "plt.title('Relación tipo de sala y decisión de volver')\n",
    "plt.show()"
   ]
  },
  {
   "cell_type": "markdown",
   "metadata": {},
   "source": [
    "Podemos observar que en el caso de las salas:\n",
    "* 2d es superior la cantidad de personas que decidirían volver respecto de las que no.\n",
    "- 3d no se aprecia una diferencia significativa en la decisión de volver.\n",
    "- 4d es considerable la cantidad de personas que no volverían comparada con las que sí.\n",
    "\n",
    "Además observamos que si bien la cantidad de espectadores de las salas 2d es inferior a la de 4d, la cantidad de personas que decidiría volver es superior."
   ]
  },
  {
   "cell_type": "code",
   "execution_count": 54,
   "metadata": {},
   "outputs": [
    {
     "data": {
      "text/plain": [
       "<Figure size 900x600 with 0 Axes>"
      ]
     },
     "metadata": {},
     "output_type": "display_data"
    },
    {
     "data": {
      "image/png": "[encoded data removed]",
      "text/plain": [
       "<Figure size 360x360 with 1 Axes>"
      ]
     },
     "metadata": {
      "needs_background": "light"
     },
     "output_type": "display_data"
    }
   ],
   "source": [
    "# Comparamos la sede a la que fueron y la decisión de volver\n",
    "plt.figure(dpi=150)\n",
    "df_aux = df[[\"volveria\", \"nombre_sede\"]].value_counts().reset_index()\n",
    "df_aux.columns.values[2] = 'count'\n",
    "df_aux.volveria.replace(to_replace=[True, False], value=[\"Sí\", \"No\"], inplace=True)\n",
    "\n",
    "sns.catplot(data=df_aux, x='nombre_sede', y='count', hue='volveria', kind='bar', legend=False)\n",
    "\n",
    "plt.legend(title = \"Volvería\")\n",
    "plt.ylabel(\"Cantidad de espectadores\")\n",
    "plt.xlabel(\"Sede\")\n",
    "plt.title('Relación sede y decisión de volver')\n",
    "plt.show()"
   ]
  },
  {
   "cell_type": "markdown",
   "metadata": {},
   "source": [
    "No podemos extraer un conclusión con este gráfico. "
   ]
  },
  {
   "cell_type": "code",
   "execution_count": 55,
   "metadata": {},
   "outputs": [
    {
     "data": {
      "image/png": "[encoded data removed]",
      "text/plain": [
       "<Figure size 600x400 with 2 Axes>"
      ]
     },
     "metadata": {
      "needs_background": "light"
     },
     "output_type": "display_data"
    }
   ],
   "source": [
    "# Vemos cuales fueron las salas más elegidas según las sedes\n",
    "plt.figure(dpi=100)\n",
    "\n",
    "df_aux = df[[\"tipo_de_sala\", \"nombre_sede\"]].value_counts().reset_index()\n",
    "df_aux.columns.values[2] = 'count'\n",
    "\n",
    "df_aux = df_aux.pivot(\"tipo_de_sala\", \"nombre_sede\", \"count\")\n",
    "\n",
    "g = sns.heatmap(df_aux, square=True, cmap=\"Wistia\", xticklabels=True)\n",
    "\n",
    "g.set_xlabel(\"Nombre de sede\")\n",
    "g.set_ylabel(\"Tipo de sala\")\n",
    "g.set_title(\"Relación sede y tipo de sala elegidas\")\n",
    "  \n",
    "plt.show()"
   ]
  },
  {
   "cell_type": "markdown",
   "metadata": {},
   "source": [
    "Podemos ver que para todos los tipos de salas la sede más elegida fue Palermo y que la sala 4d de Palermo fue la más elegida de todas."
   ]
  },
  {
   "cell_type": "code",
   "execution_count": 56,
   "metadata": {},
   "outputs": [
    {
     "data": {
      "text/plain": [
       "<AxesSubplot:ylabel='Género'>"
      ]
     },
     "execution_count": 56,
     "metadata": {},
     "output_type": "execute_result"
    },
    {
     "data": {
      "image/png": "[encoded data removed]",
      "text/plain": [
       "<Figure size 510x340 with 1 Axes>"
      ]
     },
     "metadata": {},
     "output_type": "display_data"
    }
   ],
   "source": [
    "# Vemos en porcentaje el género de los espectadores\n",
    "plt.figure(dpi=85)\n",
    "df.genero.value_counts().plot(kind='pie', autopct='%1.0f%%', ylabel='Género')"
   ]
  },
  {
   "cell_type": "markdown",
   "metadata": {},
   "source": [
    "Podemos ver que en su mayoría los espectadores son hombres."
   ]
  },
  {
   "cell_type": "code",
   "execution_count": 57,
   "metadata": {},
   "outputs": [
    {
     "data": {
      "text/plain": [
       "<Figure size 900x600 with 0 Axes>"
      ]
     },
     "metadata": {},
     "output_type": "display_data"
    },
    {
     "data": {
      "image/png": "[encoded data removed]",
      "text/plain": [
       "<Figure size 360x360 with 1 Axes>"
      ]
     },
     "metadata": {
      "needs_background": "light"
     },
     "output_type": "display_data"
    }
   ],
   "source": [
    "# Comparamos el género y la decisión de volver\n",
    "plt.figure(dpi=150)\n",
    "df_aux = df[[\"volveria\", \"genero\"]].value_counts().reset_index()\n",
    "df_aux.columns.values[2] = 'count'\n",
    "df_aux.volveria.replace(to_replace=[True, False], value=[\"Sí\", \"No\"], inplace=True)\n",
    "\n",
    "sns.catplot(data=df_aux, x='genero', y='count', hue='volveria', kind='bar', legend=False)\n",
    "\n",
    "plt.title('Relación género y decisión de volver')\n",
    "plt.legend(title = \"Volvería\")\n",
    "plt.ylabel(\"Cantidad de espectadores\")\n",
    "plt.xlabel(\"Género\")\n",
    "plt.show()\n"
   ]
  },
  {
   "cell_type": "markdown",
   "metadata": {},
   "source": [
    "Podemos apreciar que incluso mientras que la cantidad de hombres que participaron es mayor que la cantidad de mujeres, es significativamente mayor la cantidad de mujeres que decidirían volver comparada con la cantidad de hombres que elegirían volver."
   ]
  },
  {
   "cell_type": "code",
   "execution_count": 58,
   "metadata": {},
   "outputs": [
    {
     "data": {
      "text/plain": [
       "Text(0.5, 0, 'Cantidad de acompañantes')"
      ]
     },
     "execution_count": 58,
     "metadata": {},
     "output_type": "execute_result"
    },
    {
     "data": {
      "image/png": "[encoded data removed]",
      "text/plain": [
       "<Figure size 432x288 with 1 Axes>"
      ]
     },
     "metadata": {
      "needs_background": "light"
     },
     "output_type": "display_data"
    }
   ],
   "source": [
    "ax = df['fue_acompanado'].replace(to_replace=[1, 0], value=['Sí', 'No']).value_counts().sort_values(ascending=False) \\\n",
    ".plot(title = 'Espectadores acompañados vs solos', \n",
    "      ylabel = 'Cantidad de espectadores',\n",
    "      xlabel = 'Fue acompañado',\n",
    "      kind='bar')\n",
    "\n",
    "ax.set_xlabel('Cantidad de acompañantes')"
   ]
  },
  {
   "cell_type": "markdown",
   "metadata": {},
   "source": [
    "La mayoría de las personas no van acompanadas al cine."
   ]
  },
  {
   "cell_type": "code",
   "execution_count": 59,
   "metadata": {},
   "outputs": [
    {
     "data": {
      "text/plain": [
       "Text(0, 0.5, 'Cantidad de espectadores')"
      ]
     },
     "execution_count": 59,
     "metadata": {},
     "output_type": "execute_result"
    },
    {
     "data": {
      "image/png": "[encoded data removed]",
      "text/plain": [
       "<Figure size 432x288 with 1 Axes>"
      ]
     },
     "metadata": {
      "needs_background": "light"
     },
     "output_type": "display_data"
    }
   ],
   "source": [
    "ax = df['cantidad_acompanantes'].plot(title = 'Distribución de la cantidad de acompañantes', kind='hist', bins=20)\n",
    "\n",
    "ax.set_xlabel('Cantidad de acompañantes')\n",
    "ax.set_ylabel('Cantidad de espectadores')"
   ]
  },
  {
   "cell_type": "code",
   "execution_count": 60,
   "metadata": {},
   "outputs": [
    {
     "data": {
      "image/png": "[encoded data removed]",
      "text/plain": [
       "<Figure size 600x400 with 1 Axes>"
      ]
     },
     "metadata": {
      "needs_background": "light"
     },
     "output_type": "display_data"
    }
   ],
   "source": [
    "plt.figure(dpi=100)\n",
    "plt.title(\"Distribución del precio del ticket y\\n la decisión de volver\")\n",
    "sns.boxplot(\n",
    "    data=df,\n",
    "    y='precio_ticket',\n",
    "    x='volveria'\n",
    ")\n",
    "plt.ylabel(\"Precio del ticket\")\n",
    "plt.xlabel(\"Volvería\")\n",
    "plt.xticks([False, True], [\"No\", \"Sí\"])\n",
    "plt.show()"
   ]
  },
  {
   "cell_type": "markdown",
   "metadata": {},
   "source": [
    "Podemos ver que para ambos casos todos los valores superiores a, aproximadamente, 15 son outliers."
   ]
  },
  {
   "cell_type": "code",
   "execution_count": 61,
   "metadata": {},
   "outputs": [],
   "source": [
    "df_aux = df[[\"volveria\", \"genero\", \"tipo_de_sala\", \"nombre_sede\"]].value_counts().reset_index()\n",
    "df_aux.columns.values[-1] = 'cantidad_espectadores'\n",
    "df_aux.volveria.replace(to_replace=[True, False], value=[\"sí\", \"no\"], inplace=True)"
   ]
  },
  {
   "cell_type": "code",
   "execution_count": 62,
   "metadata": {},
   "outputs": [
    {
     "data": {
      "text/plain": [
       "<Figure size 432x288 with 0 Axes>"
      ]
     },
     "metadata": {},
     "output_type": "display_data"
    },
    {
     "data": {
      "image/png": "[encoded data removed]",
      "text/plain": [
       "<Figure size 804x360 with 2 Axes>"
      ]
     },
     "metadata": {
      "needs_background": "light"
     },
     "output_type": "display_data"
    }
   ],
   "source": [
    "df_hombre = df_aux[df_aux[\"genero\"] == \"hombre\"]\n",
    "\n",
    "plt.figure()\n",
    "\n",
    "g = sns.catplot(data=df_hombre, x='tipo_de_sala', y='cantidad_espectadores', hue='nombre_sede', kind='bar',\n",
    "            order=['2d', '3d', '4d'], col='volveria')\n",
    "\n",
    "(g.set_axis_labels(\"Tipo de sala\", \"Cantidad de espectadores\")\n",
    "  .set_titles(\"Distribución de hombres que {col_name} {col_var} por sala y sede\"))  \n",
    "\n",
    "plt.show()"
   ]
  },
  {
   "cell_type": "code",
   "execution_count": 63,
   "metadata": {},
   "outputs": [
    {
     "data": {
      "text/plain": [
       "<Figure size 432x288 with 0 Axes>"
      ]
     },
     "metadata": {},
     "output_type": "display_data"
    },
    {
     "data": {
      "image/png": "[encoded data removed]",
      "text/plain": [
       "<Figure size 804x360 with 2 Axes>"
      ]
     },
     "metadata": {
      "needs_background": "light"
     },
     "output_type": "display_data"
    }
   ],
   "source": [
    "df_mujer = df_aux[df_aux[\"genero\"] == \"mujer\"]\n",
    "\n",
    "plt.figure()\n",
    "g = sns.catplot(data=df_mujer, x='tipo_de_sala', y='cantidad_espectadores', hue='nombre_sede', kind='bar',\n",
    "            order=['2d', '3d', '4d'], col ='volveria')\n",
    "\n",
    "(g.set_axis_labels(\"Tipo de sala\", \"Cantidad de espectadores\")\n",
    "  .set_titles(\"Distribución de mujeres que {col_name} {col_var} por sala y sede\")\n",
    ")  \n",
    "\n",
    "plt.show()"
   ]
  },
  {
   "cell_type": "markdown",
   "metadata": {},
   "source": [
    "# Conclusiones"
   ]
  },
  {
   "cell_type": "markdown",
   "metadata": {},
   "source": [
    "- Con el gráfico boxplot podemos ver que la mayoría de los valores representativos de la columna 'precio_ticket' es menor a 15 \n",
    "  - df.drop(df[df['precio_ticket'] > 15].index, inplace=True)\n",
    "  \n",
    "  \n",
    "\n",
    "- Con los últimos dos gráficos llegamos a las siguientes conclusiones\n",
    "    - En el caso de los hombres para todas las sedes y salas la mayoría no volvería. \n",
    "    - En el caso de las mujeres \n",
    "        - Para las salas 2d y 3d se puede ver que en todas las sedes la mayoría volvería.\n",
    "        - Para las salas 4d\n",
    "            - En el caso de la sede de Chacarita la mayoría volvería\n",
    "            - En el caso de la sede de Quilmes no se tiene suficiente información para establecer un comportamiento\n",
    "            - En el caso de la sede de Palermo podemos notar que la mayoría no volvería\n",
    "          "
   ]
  },
  {
   "cell_type": "markdown",
   "metadata": {},
   "source": [
    "# Feature Engineering"
   ]
  },
  {
   "cell_type": "code",
   "execution_count": 64,
   "metadata": {},
   "outputs": [],
   "source": [
    "def FeatureEngineering(df):\n",
    "    \n",
    "    df_clean = df.copy()\n",
    "    \n",
    "    df_clean.drop(columns=['nombre', 'id_ticket', 'id_usuario'], inplace = True)\n",
    "    df_clean['cantidad_acompanantes'] = df_clean['amigos'] + df_clean['parientes']\n",
    "    df_clean.drop(columns=['amigos', 'parientes'], axis=1, inplace = True)\n",
    "    df_clean['fue_acompanado'] = df_clean['cantidad_acompanantes'].apply(lambda x: 1 if x > 0 else 0)\n",
    "    df_clean['tipo_de_sala'].replace(to_replace = 'normal', value = '2d', inplace = True)\n",
    "    df_clean['nombre_sede'].replace(to_replace = 'fiumark_quilmes', value ='Quilmes', inplace=True) \n",
    "    df_clean['nombre_sede'].replace(to_replace = 'fiumark_chacarita', value ='Chacarita', inplace=True) \n",
    "    df_clean['nombre_sede'].replace(to_replace = 'fiumark_palermo', value ='Palermo', inplace=True) \n",
    "    df_clean.drop(columns = 'fila', inplace = True)\n",
    "    df_clean['edad'].fillna(df_clean['edad'].median(), inplace = True) \n",
    "            \n",
    "    return df_clean"
   ]
  },
  {
   "cell_type": "code",
   "execution_count": 65,
   "metadata": {},
   "outputs": [],
   "source": [
    "def Predict(df):\n",
    "    pred = []\n",
    "    values = df.values\n",
    "    for val in values:\n",
    "        if val[1] == 'hombre':\n",
    "            pred.append(0)\n",
    "        else:\n",
    "            if (val[0] == '4d' and val[4] == 'Palermo'):\n",
    "                pred.append(0)\n",
    "            else:\n",
    "                pred.append(1)\n",
    "     \n",
    "    return pred"
   ]
  },
  {
   "cell_type": "code",
   "execution_count": 66,
   "metadata": {},
   "outputs": [],
   "source": [
    "def baseline(df):\n",
    "    \"\"\"    \n",
    "    Input: dataframe\n",
    "    Output: lista con las predicciones    \n",
    "    \"\"\"    \n",
    "    # Aplicamos feature engineering a los datos de entrada\n",
    "    entrada = FeatureEngineering(df)\n",
    "    pred = Predict(entrada)\n",
    "    \n",
    "    return pred"
   ]
  },
  {
   "cell_type": "code",
   "execution_count": 67,
   "metadata": {},
   "outputs": [],
   "source": [
    "# Generamos dataframe para probar\n",
    "df_datos_test = GetDatosEncuesta()\n",
    "\n",
    "df_volveria_test = GetEncuesta()\n",
    "df_volveria_test = df_volveria_test.volveria\n"
   ]
  },
  {
   "cell_type": "code",
   "execution_count": 68,
   "metadata": {},
   "outputs": [
    {
     "data": {
      "text/plain": [
       "0.8202247191011236"
      ]
     },
     "execution_count": 68,
     "metadata": {},
     "output_type": "execute_result"
    }
   ],
   "source": [
    "predicciones = baseline(df_datos_test)\n",
    "accuracy_score(df_volveria_test, predicciones)"
   ]
  },
  {
   "cell_type": "markdown",
   "metadata": {},
   "source": [
    "# Comentarios:\n",
    "\n",
    "\t* Razon por la que no importa a la prediccion (apoyarse con graficos)\n",
    "\t\tnombre, fila (sesgo)\n",
    "\t\n",
    "\t* Chequear el motivo por el cual faltan\n",
    "\t\n",
    "\t\n",
    "* Graficos\n",
    "    - Ordenar graficos\n",
    "    - Medir porcentajes en base a gente encuestada\n",
    "    - Agregar conclusion al informe de porque no aporta informacion\n",
    "\t\t\n",
    "\t\t\n",
    "* Coherencia entre entrenamiento y prediccion\t\n",
    "\n",
    "\n",
    "* Preguntas de negocio - analisis - conclusion\n",
    "\n",
    "\n",
    "\n",
    "## Re-entrega: antes del 17 de noviembre"
   ]
  },
  {
   "cell_type": "code",
   "execution_count": null,
   "metadata": {},
   "outputs": [],
   "source": []
  }
 ],
 "metadata": {
  "kernelspec": {
   "display_name": "Python 3",
   "language": "python",
   "name": "python3"
  },
  "language_info": {
   "codemirror_mode": {
    "name": "ipython",
    "version": 3
   },
   "file_extension": ".py",
   "mimetype": "text/x-python",
   "name": "python",
   "nbconvert_exporter": "python",
   "pygments_lexer": "ipython3",
   "version": "3.8.6"
  }
 },
 "nbformat": 4,
 "nbformat_minor": 4
}

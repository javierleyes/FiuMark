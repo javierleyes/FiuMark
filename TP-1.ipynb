{
 "cells": [
  {
   "cell_type": "code",
   "execution_count": null,
   "metadata": {},
   "outputs": [],
   "source": [
    "import pandas as pd\n",
    "from pandas_profiling import ProfileReport\n",
    "from matplotlib import pyplot as plt\n",
    "import seaborn as sns\n",
    "from sklearn import tree\n",
    "from sklearn.metrics import accuracy_score"
   ]
  },
  {
   "cell_type": "code",
   "execution_count": null,
   "metadata": {},
   "outputs": [],
   "source": [
    "def GetDatosEncuesta():\n",
    "    \"\"\"Obtener el dataset.\n",
    "\n",
    "    Devuelve\n",
    "    --------\n",
    "        pd.DataFrame: El dataset con los datos de la encuesta descargado desde el drive.\n",
    "    \"\"\"\n",
    "    return pd.read_csv('https://drive.google.com/uc?export=download&id=1i-KJ2lSvM7OQH0Yd59bX01VoZcq8Sglq')\n",
    "\n",
    "def GetEncuesta():\n",
    "    \"\"\"Obtener el dataset.\n",
    "\n",
    "    Devuelve\n",
    "    --------\n",
    "        pd.DataFrame: El dataset con los resultados de la encuesta descargado desde el drive.\n",
    "    \"\"\"\n",
    "    return pd.read_csv('https://drive.google.com/uc?export=download&id=1km-AEIMnWVGqMtK-W28n59hqS5Kufhd0')"
   ]
  },
  {
   "cell_type": "markdown",
   "metadata": {},
   "source": [
    "# Preguntas inciales\n",
    "- ¿Los datos están completos? ¿son consistentes?\n",
    "- ¿Las columnas aportan información relevante?\n",
    "- ¿Los datos sirven para generar una conclusión?\n",
    "- ¿Los datos se encuentra balanceados?\n",
    "- ¿Se pueden eliminar entradas con poca importancia (outliers)?\n",
    "- ¿Podemos agrupar datos?\n",
    "- ¿Podemos imputar datos faltantes?\n",
    "\n",
    "\n",
    "Para responder estas preguntas realizamos el siguiente análisis"
   ]
  },
  {
   "cell_type": "markdown",
   "metadata": {},
   "source": [
    "# Inspección inicial de datos de la encuesta\n",
    "Importamos los datos en un dataframe y hacemos un análisis de la estructura del mismo."
   ]
  },
  {
   "cell_type": "code",
   "execution_count": null,
   "metadata": {},
   "outputs": [],
   "source": [
    "# Importamos csv con los datos\n",
    "df_datos_encuesta = GetDatosEncuesta()"
   ]
  },
  {
   "cell_type": "code",
   "execution_count": null,
   "metadata": {},
   "outputs": [],
   "source": [
    "# Inspeccionamos las dimensiones iniciales del dataframe\n",
    "df_datos_encuesta.shape"
   ]
  },
  {
   "cell_type": "code",
   "execution_count": null,
   "metadata": {},
   "outputs": [],
   "source": [
    "# Analizamos la columna 'id_usuario' es busca de usuarios repetidos\n",
    "df_datos_encuesta['id_usuario'].duplicated(keep=False).value_counts()"
   ]
  },
  {
   "cell_type": "code",
   "execution_count": null,
   "metadata": {},
   "outputs": [],
   "source": [
    "# Verifico que no tenga valores nulos\n",
    "df_datos_encuesta['id_usuario'].isnull().sum()"
   ]
  },
  {
   "cell_type": "markdown",
   "metadata": {},
   "source": [
    "# Análisis y transformación de dataframe con resultados\n",
    "Importamos dataframe con los resultados de la encuesta, realizamos un análisis de los datos y mergeamos el mismo con el dataframe de los datos de la encuesta."
   ]
  },
  {
   "cell_type": "code",
   "execution_count": null,
   "metadata": {},
   "outputs": [],
   "source": [
    "df_encuesta = GetEncuesta()"
   ]
  },
  {
   "cell_type": "code",
   "execution_count": null,
   "metadata": {},
   "outputs": [],
   "source": [
    "# Analizamos el dataframe df_encuesta, verificando que no tenga valores null\n",
    "df_encuesta.head()"
   ]
  },
  {
   "cell_type": "code",
   "execution_count": null,
   "metadata": {},
   "outputs": [],
   "source": [
    "df_encuesta.shape"
   ]
  },
  {
   "cell_type": "code",
   "execution_count": null,
   "metadata": {},
   "outputs": [],
   "source": [
    "df_encuesta.isnull().sum()"
   ]
  },
  {
   "cell_type": "code",
   "execution_count": null,
   "metadata": {},
   "outputs": [],
   "source": [
    "# Analizamos la columna 'id_usuario' es busca de usuarios repetidos\n",
    "df_encuesta['id_usuario'].duplicated(keep=False).value_counts()"
   ]
  },
  {
   "cell_type": "code",
   "execution_count": null,
   "metadata": {},
   "outputs": [],
   "source": [
    "# Mergeamos los dataframe\n",
    "df = pd.merge(left = df_datos_encuesta, right = df_encuesta, how = 'inner', on = 'id_usuario')"
   ]
  },
  {
   "cell_type": "code",
   "execution_count": null,
   "metadata": {},
   "outputs": [],
   "source": [
    "df.head()"
   ]
  },
  {
   "cell_type": "code",
   "execution_count": null,
   "metadata": {},
   "outputs": [],
   "source": [
    "# DEBUG\n",
    "df.shape"
   ]
  },
  {
   "cell_type": "code",
   "execution_count": null,
   "metadata": {},
   "outputs": [],
   "source": [
    "# Elimino la columna id_usuario, porque ya no nos aporta informacion\n",
    "df.drop(columns=['id_usuario'], axis=1, inplace=True)"
   ]
  },
  {
   "cell_type": "code",
   "execution_count": null,
   "metadata": {},
   "outputs": [],
   "source": [
    "# DEBUG\n",
    "df.head()"
   ]
  },
  {
   "cell_type": "markdown",
   "metadata": {},
   "source": [
    "# Análisis de columnas\n",
    "Realizamos un análisis de las columnas del data frame. La estructura utilizada será: preguntas - análisis - conclusión."
   ]
  },
  {
   "cell_type": "markdown",
   "metadata": {},
   "source": [
    "# <span style=\"color:red\">Id de ticket</span>"
   ]
  },
  {
   "cell_type": "markdown",
   "metadata": {},
   "source": [
    "### Preguntas"
   ]
  },
  {
   "cell_type": "markdown",
   "metadata": {},
   "source": []
  },
  {
   "cell_type": "markdown",
   "metadata": {},
   "source": [
    "### Análisis"
   ]
  },
  {
   "cell_type": "code",
   "execution_count": null,
   "metadata": {},
   "outputs": [],
   "source": [
    "df.id_ticket.value_counts()"
   ]
  },
  {
   "cell_type": "code",
   "execution_count": null,
   "metadata": {},
   "outputs": [],
   "source": [
    "df_aux = df.id_ticket.value_counts().reset_index()\n",
    "df_aux.columns.values[-1] = 'cantidad_espectadores'\n",
    "df_aux = df_aux[[\"cantidad_espectadores\"]].value_counts().reset_index()\n",
    "df_aux.columns.values[-1] = 'count'\n",
    "\n",
    "sns.catplot(data=df_aux, x='cantidad_espectadores', y='count', kind='bar')\n",
    "\n",
    "plt.title('Cuantos espectadores repiten id de ticket')\n",
    "plt.ylabel(\"Cantidad de espectadores\")\n",
    "plt.xlabel(\"Cantidad con mismo id de ticket\")\n",
    "plt.show()"
   ]
  },
  {
   "cell_type": "code",
   "execution_count": null,
   "metadata": {},
   "outputs": [],
   "source": [
    "# Eliminamos las columna \"id_ticket\" porque no nos aporta información relavante para la predicción\n",
    "df.drop(columns= 'id_ticket', inplace=True)"
   ]
  },
  {
   "cell_type": "code",
   "execution_count": null,
   "metadata": {},
   "outputs": [],
   "source": [
    "# DEBUG\n",
    "df.head()"
   ]
  },
  {
   "cell_type": "code",
   "execution_count": null,
   "metadata": {},
   "outputs": [],
   "source": [
    "# DEBUG\n",
    "df.shape"
   ]
  },
  {
   "cell_type": "markdown",
   "metadata": {},
   "source": [
    "### Conclusión"
   ]
  },
  {
   "cell_type": "markdown",
   "metadata": {},
   "source": [
    "Podemos ver que al agrupar los id_ticket y contar la cantidad de espectadores para cada uno los valores que obtenemos para casi todo el dataset es 1 o 2 espectadores. Por esta razón decidimos eliminar la columna id_ticket ya que para aprender el modelo en este caso se debería memorizar el id_ticket y no es lo que buscamos lograr."
   ]
  },
  {
   "cell_type": "markdown",
   "metadata": {},
   "source": [
    "# <span style=\"color:red\">Nombre</span>"
   ]
  },
  {
   "cell_type": "markdown",
   "metadata": {},
   "source": [
    "### Preguntas"
   ]
  },
  {
   "cell_type": "markdown",
   "metadata": {},
   "source": [
    "- ¿El dato esta completo en todas las filas?\n",
    "- ¿Influye el nombre en la columna volveria?"
   ]
  },
  {
   "cell_type": "markdown",
   "metadata": {},
   "source": [
    "### Análisis"
   ]
  },
  {
   "cell_type": "code",
   "execution_count": null,
   "metadata": {},
   "outputs": [],
   "source": [
    "df['nombre'].isnull().sum()"
   ]
  },
  {
   "cell_type": "code",
   "execution_count": null,
   "metadata": {},
   "outputs": [],
   "source": [
    "df['nombre'].replace({'Señorita ': '', 'Señor ': '', 'Señora ':''}, regex = True, inplace = True) "
   ]
  },
  {
   "cell_type": "code",
   "execution_count": null,
   "metadata": {},
   "outputs": [],
   "source": [
    "df[['nombre']] = df['nombre'].str.split(pat = \" \", n = 1, expand = True)[0]"
   ]
  },
  {
   "cell_type": "code",
   "execution_count": null,
   "metadata": {},
   "outputs": [],
   "source": [
    "# Armo dos nuevos dataframe con los que volverian y los que no\n",
    "df_vuelven = df[df['volveria'] == 1]\n",
    "df_no_vuelven = df[df['volveria'] == 0]"
   ]
  },
  {
   "cell_type": "code",
   "execution_count": null,
   "metadata": {
    "scrolled": true
   },
   "outputs": [],
   "source": [
    "df_vuelven['nombre'].value_counts().head()"
   ]
  },
  {
   "cell_type": "code",
   "execution_count": null,
   "metadata": {
    "scrolled": true
   },
   "outputs": [],
   "source": [
    "df_no_vuelven['nombre'].value_counts().head()"
   ]
  },
  {
   "cell_type": "code",
   "execution_count": null,
   "metadata": {},
   "outputs": [],
   "source": [
    "print(\"Vuelven\", df_vuelven.shape)\n",
    "print(\"No vuelven\", df_no_vuelven.shape)"
   ]
  },
  {
   "cell_type": "markdown",
   "metadata": {},
   "source": [
    "### Conclusión"
   ]
  },
  {
   "cell_type": "markdown",
   "metadata": {},
   "source": [
    "Como podemos ver de las 307 personas que volverian 7 tienen como nombre Olga, en el caso de las 494 que no volverian 19 tienen como nombre Juan."
   ]
  },
  {
   "cell_type": "markdown",
   "metadata": {},
   "source": [
    "# <span style=\"color:red\">Precio de ticket</span>"
   ]
  },
  {
   "cell_type": "markdown",
   "metadata": {},
   "source": [
    "### Preguntas"
   ]
  },
  {
   "cell_type": "markdown",
   "metadata": {},
   "source": [
    "- ¿El dato esta completo en todas las filas?\n",
    "- ¿Los datos tienen mucha varianza?\n",
    "- ¿Puedo quedarme con los valores mas representativos?"
   ]
  },
  {
   "cell_type": "markdown",
   "metadata": {},
   "source": [
    "### Análisis"
   ]
  },
  {
   "cell_type": "code",
   "execution_count": null,
   "metadata": {},
   "outputs": [],
   "source": [
    "# Verificamos que no tenga valores nulos\n",
    "df['precio_ticket'].isnull().sum()"
   ]
  },
  {
   "cell_type": "code",
   "execution_count": null,
   "metadata": {},
   "outputs": [],
   "source": [
    "# Vemos la distribución de los valores\n",
    "df['precio_ticket'].value_counts()"
   ]
  },
  {
   "cell_type": "code",
   "execution_count": null,
   "metadata": {},
   "outputs": [],
   "source": [
    "plt.figure(dpi=100)\n",
    "plt.title(\"Distribución del precio del ticket y\\n la decisión de volver\")\n",
    "sns.boxplot(\n",
    "    data=df,\n",
    "    y='precio_ticket',\n",
    "    x='volveria'\n",
    ")\n",
    "plt.ylabel(\"Precio del ticket\")\n",
    "plt.xlabel(\"Volvería\")\n",
    "plt.xticks([False, True], [\"No\", \"Sí\"])\n",
    "plt.show()"
   ]
  },
  {
   "cell_type": "code",
   "execution_count": null,
   "metadata": {},
   "outputs": [],
   "source": [
    "# Eliminamos los valores mayores a 15\n",
    "df.drop(df[df['precio_ticket'] > 15].index, inplace=True)"
   ]
  },
  {
   "cell_type": "markdown",
   "metadata": {},
   "source": [
    "### Conclusión"
   ]
  },
  {
   "cell_type": "markdown",
   "metadata": {},
   "source": [
    "Como podemos ver la mayoría de los valores representativos de la columna 'precio_ticket' son los menores a 15"
   ]
  },
  {
   "cell_type": "markdown",
   "metadata": {},
   "source": [
    "# <span style=\"color:red\">Nombre de sede</span>"
   ]
  },
  {
   "cell_type": "markdown",
   "metadata": {},
   "source": [
    "### Preguntas"
   ]
  },
  {
   "cell_type": "markdown",
   "metadata": {},
   "source": [
    "- ¿El dato esta completo en todas las filas?\n",
    "- ¿Los datos tienen mucha varianza?\n",
    "- ¿Puedo quedarme con los valores mas representativos?\n",
    "- ¿Puedo completar los valores faltantes?"
   ]
  },
  {
   "cell_type": "markdown",
   "metadata": {},
   "source": [
    "### Análisis"
   ]
  },
  {
   "cell_type": "code",
   "execution_count": null,
   "metadata": {},
   "outputs": [],
   "source": [
    "# Verificamos que no tenga valores nulos\n",
    "df['nombre_sede'].isnull().sum()"
   ]
  },
  {
   "cell_type": "code",
   "execution_count": null,
   "metadata": {},
   "outputs": [],
   "source": [
    "# En este caso como vimos que solo tiene 2 filas con valores null las descartamos\n",
    "bool_nombre_sede = pd.notnull(df['nombre_sede'])  \n",
    "df = df[bool_nombre_sede]  "
   ]
  },
  {
   "cell_type": "code",
   "execution_count": null,
   "metadata": {},
   "outputs": [],
   "source": [
    "# Vemos la distribución de los valores\n",
    "df['nombre_sede'].value_counts()"
   ]
  },
  {
   "cell_type": "code",
   "execution_count": null,
   "metadata": {},
   "outputs": [],
   "source": [
    "# Quito 'fiumark' del nombre de la sede, para una mejor visualizacion en los graficos\n",
    "df['nombre_sede'].replace(to_replace = 'fiumark_quilmes', value ='Quilmes', inplace=True) \n",
    "df['nombre_sede'].replace(to_replace = 'fiumark_chacarita', value ='Chacarita', inplace=True) \n",
    "df['nombre_sede'].replace(to_replace = 'fiumark_palermo', value ='Palermo', inplace=True) "
   ]
  },
  {
   "cell_type": "code",
   "execution_count": null,
   "metadata": {},
   "outputs": [],
   "source": [
    "df['nombre_sede'].value_counts().sort_values(ascending=False) \\\n",
    ".plot(title = 'Porcentaje de espectadores por sede', \n",
    "      ylabel = '',\n",
    "      kind='pie', \n",
    "      autopct='%1.0f%%')"
   ]
  },
  {
   "cell_type": "code",
   "execution_count": null,
   "metadata": {},
   "outputs": [],
   "source": [
    "# Comparamos la sede a la que fueron y la decisión de volver\n",
    "plt.figure(dpi=150)\n",
    "df_aux = df[[\"volveria\", \"nombre_sede\"]].value_counts().reset_index()\n",
    "df_aux.columns.values[2] = 'count'\n",
    "df_aux.volveria.replace(to_replace=[True, False], value=[\"Sí\", \"No\"], inplace=True)\n",
    "\n",
    "sns.catplot(data=df_aux, x='nombre_sede', y='count', hue='volveria', kind='bar', legend=False)\n",
    "\n",
    "plt.legend(title = \"Volvería\")\n",
    "plt.ylabel(\"Cantidad de espectadores\")\n",
    "plt.xlabel(\"Sede\")\n",
    "plt.title('Relación sede y decisión de volver')\n",
    "plt.show()"
   ]
  },
  {
   "cell_type": "markdown",
   "metadata": {},
   "source": [
    "### Conclusión"
   ]
  },
  {
   "cell_type": "markdown",
   "metadata": {},
   "source": [
    "Como solo tenemos dos valores faltantes los eliminamos.\n",
    "\n",
    "La mayoría de las personas concurrieron a la sede de Palermo\n",
    "\n",
    "No podemos extraer un conclusión con el último gráfico. "
   ]
  },
  {
   "cell_type": "markdown",
   "metadata": {},
   "source": [
    "# <span style=\"color:red\">Amigos y Parientes</span>"
   ]
  },
  {
   "cell_type": "markdown",
   "metadata": {},
   "source": [
    "### Preguntas"
   ]
  },
  {
   "cell_type": "markdown",
   "metadata": {},
   "source": [
    "- ¿El dato esta completo en todas las filas?\n",
    "- ¿Son consistentes?\n",
    "- ¿Los datos tienen mucha varianza?\n",
    "- ¿Puedo completar los valores faltantes?"
   ]
  },
  {
   "cell_type": "markdown",
   "metadata": {},
   "source": [
    "### Análisis"
   ]
  },
  {
   "cell_type": "markdown",
   "metadata": {},
   "source": [
    "- Verificamos que no tengan valores nulos y que solo tengan valores numericos enteros positivos"
   ]
  },
  {
   "cell_type": "code",
   "execution_count": null,
   "metadata": {
    "scrolled": true
   },
   "outputs": [],
   "source": [
    "df['amigos'].isnull().sum()"
   ]
  },
  {
   "cell_type": "code",
   "execution_count": null,
   "metadata": {},
   "outputs": [],
   "source": [
    "df['parientes'].isnull().sum()"
   ]
  },
  {
   "cell_type": "markdown",
   "metadata": {},
   "source": [
    "- Vemos la distribución de los valores de amigos y parientes"
   ]
  },
  {
   "cell_type": "code",
   "execution_count": null,
   "metadata": {},
   "outputs": [],
   "source": [
    "df['amigos'].value_counts()"
   ]
  },
  {
   "cell_type": "code",
   "execution_count": null,
   "metadata": {},
   "outputs": [],
   "source": [
    "df['parientes'].value_counts()"
   ]
  },
  {
   "cell_type": "code",
   "execution_count": null,
   "metadata": {},
   "outputs": [],
   "source": [
    "# Creamos una nueva columna 'cantidad_acompanantes' que sea la suma de la cantidad de amigos y parientes\n",
    "df['cantidad_acompanantes'] = df['amigos'] + df['parientes']"
   ]
  },
  {
   "cell_type": "code",
   "execution_count": null,
   "metadata": {},
   "outputs": [],
   "source": [
    "# Elimino las columnas amigos y parientes\n",
    "df.drop(columns=['amigos', 'parientes'], axis=1, inplace=True)"
   ]
  },
  {
   "cell_type": "code",
   "execution_count": null,
   "metadata": {},
   "outputs": [],
   "source": [
    "# Nos parece relevante si fue acompañado o no, por eso creamos un nueva columna 'fue_acompanado' para falicitar el uso\n",
    "df['fue_acompanado'] = df['cantidad_acompanantes'].apply(lambda x: 1 if x > 0 else 0)"
   ]
  },
  {
   "cell_type": "code",
   "execution_count": null,
   "metadata": {},
   "outputs": [],
   "source": [
    "ax = df['fue_acompanado'].replace(to_replace=[1, 0], value=['Sí', 'No']).value_counts().sort_values(ascending=False) \\\n",
    ".plot(title = 'Espectadores acompañados vs solos', \n",
    "      ylabel = 'Cantidad de espectadores',\n",
    "      xlabel = 'Fue acompañado',\n",
    "      kind='bar')\n",
    "\n",
    "ax.set_xlabel('Cantidad de acompañantes')"
   ]
  },
  {
   "cell_type": "code",
   "execution_count": null,
   "metadata": {},
   "outputs": [],
   "source": [
    "ax = df['cantidad_acompanantes'].plot(title = 'Distribución de la cantidad de acompañantes', kind='hist', bins=20)\n",
    "\n",
    "ax.set_xlabel('Cantidad de acompañantes')\n",
    "ax.set_ylabel('Cantidad de espectadores')"
   ]
  },
  {
   "cell_type": "markdown",
   "metadata": {},
   "source": [
    "### Conclusión"
   ]
  },
  {
   "cell_type": "markdown",
   "metadata": {},
   "source": [
    "La mayoría de las personas no van acompanadas al cine."
   ]
  },
  {
   "cell_type": "markdown",
   "metadata": {},
   "source": [
    "# <span style=\"color:red\">Edad</span>"
   ]
  },
  {
   "cell_type": "markdown",
   "metadata": {},
   "source": [
    "### Preguntas"
   ]
  },
  {
   "cell_type": "markdown",
   "metadata": {},
   "source": [
    "- ¿Tiene valores completos?\n",
    "- ¿Puedo completar los valores faltantes?"
   ]
  },
  {
   "cell_type": "markdown",
   "metadata": {},
   "source": [
    "### Análisis"
   ]
  },
  {
   "cell_type": "code",
   "execution_count": null,
   "metadata": {},
   "outputs": [],
   "source": [
    "# Analizamos la columna 'edad' \n",
    "df['edad'].isnull().sum()"
   ]
  },
  {
   "cell_type": "code",
   "execution_count": null,
   "metadata": {},
   "outputs": [],
   "source": [
    "# Eliminamos columnas nulas\n",
    "bool_tiene_edad = pd.notnull(df['edad'])  \n",
    "df = df[bool_tiene_edad]  "
   ]
  },
  {
   "cell_type": "code",
   "execution_count": null,
   "metadata": {},
   "outputs": [],
   "source": [
    "# Redondeo los valores\n",
    "df['edad'] = df['edad'].round(0).astype(int)"
   ]
  },
  {
   "cell_type": "markdown",
   "metadata": {},
   "source": [
    "### Conclusión"
   ]
  },
  {
   "cell_type": "markdown",
   "metadata": {},
   "source": [
    "La columna edad tiene un faltante de 160 filas, la variable \"edad\" es de tipo MNAR (es dependiente de los datos no observados).\n",
    "\n",
    "Al no tener una forma de imputarla a partir de las variables observadas decidimos eliminar las filas con edad nula\n"
   ]
  },
  {
   "cell_type": "markdown",
   "metadata": {},
   "source": [
    "# <span style=\"color:red\">Género</span> "
   ]
  },
  {
   "cell_type": "markdown",
   "metadata": {},
   "source": [
    "### Preguntas"
   ]
  },
  {
   "cell_type": "markdown",
   "metadata": {},
   "source": [
    "- ¿Tiene valores completos?\n",
    "- ¿Son consistentes?\n",
    "- ¿Lo valores están distribuidos?\n",
    "- ¿La distribución aporta relevancia para establecer un comportamiento en la decisión de volver?"
   ]
  },
  {
   "cell_type": "markdown",
   "metadata": {},
   "source": [
    "### Análisis"
   ]
  },
  {
   "cell_type": "code",
   "execution_count": null,
   "metadata": {},
   "outputs": [],
   "source": [
    "# Verifico que la columna genero no tenga nulos y solo tenga valores mujer/hombre\n",
    "df['genero'].isnull().sum()"
   ]
  },
  {
   "cell_type": "code",
   "execution_count": null,
   "metadata": {},
   "outputs": [],
   "source": [
    "df['genero'].value_counts()"
   ]
  },
  {
   "cell_type": "code",
   "execution_count": null,
   "metadata": {},
   "outputs": [],
   "source": [
    "# Vemos en porcentaje el género de los espectadores\n",
    "plt.figure(dpi=85)\n",
    "df.genero.value_counts().plot(kind='pie', autopct='%1.0f%%', ylabel='Género')"
   ]
  },
  {
   "cell_type": "code",
   "execution_count": null,
   "metadata": {},
   "outputs": [],
   "source": [
    "# Comparamos el género y la decisión de volver\n",
    "plt.figure(dpi=150)\n",
    "df_aux = df[[\"volveria\", \"genero\"]].value_counts().reset_index()\n",
    "df_aux.columns.values[2] = 'count'\n",
    "df_aux.volveria.replace(to_replace=[True, False], value=[\"Sí\", \"No\"], inplace=True)\n",
    "\n",
    "sns.catplot(data=df_aux, x='genero', y='count', hue='volveria', kind='bar', legend=False)\n",
    "\n",
    "plt.title('Relación género y decisión de volver')\n",
    "plt.legend(title = \"Volvería\")\n",
    "plt.ylabel(\"Cantidad de espectadores\")\n",
    "plt.xlabel(\"Género\")\n",
    "plt.show()\n"
   ]
  },
  {
   "cell_type": "markdown",
   "metadata": {},
   "source": [
    "### Conclusión"
   ]
  },
  {
   "cell_type": "markdown",
   "metadata": {},
   "source": [
    "Podemos ver que en su mayoría los espectadores son hombres."
   ]
  },
  {
   "cell_type": "markdown",
   "metadata": {},
   "source": [
    "Podemos apreciar que incluso mientras que la cantidad de hombres que participaron es mayor que la cantidad de mujeres, es significativamente mayor la cantidad de mujeres que decidirían volver comparada con la cantidad de hombres que elegirían volver."
   ]
  },
  {
   "cell_type": "markdown",
   "metadata": {},
   "source": [
    "# <span style=\"color:red\">Tipo de sala</span>"
   ]
  },
  {
   "cell_type": "markdown",
   "metadata": {},
   "source": [
    "### Preguntas"
   ]
  },
  {
   "cell_type": "markdown",
   "metadata": {},
   "source": [
    "- ¿Tiene valores completos?\n",
    "- ¿Son consistentes?\n",
    "- ¿Lo valores están distribuidos?\n",
    "- ¿La distribución aporta relevancia para establecer un comportamiento en la decisión de volver?"
   ]
  },
  {
   "cell_type": "markdown",
   "metadata": {},
   "source": [
    "### Análisis"
   ]
  },
  {
   "cell_type": "code",
   "execution_count": null,
   "metadata": {},
   "outputs": [],
   "source": [
    "# Analizamos la columna 'tipo_de_sala'\n",
    "# Verificamos que no tenga valores nulos\n",
    "df['tipo_de_sala'].isnull().sum()"
   ]
  },
  {
   "cell_type": "code",
   "execution_count": null,
   "metadata": {},
   "outputs": [],
   "source": [
    "df['tipo_de_sala'].value_counts()"
   ]
  },
  {
   "cell_type": "code",
   "execution_count": null,
   "metadata": {},
   "outputs": [],
   "source": [
    "# Reemplazamos normal por 2d\n",
    "df['tipo_de_sala'].replace(to_replace='normal', value='2d', inplace=True)"
   ]
  },
  {
   "cell_type": "code",
   "execution_count": null,
   "metadata": {},
   "outputs": [],
   "source": [
    "# DEBUG\n",
    "df['tipo_de_sala'].value_counts()"
   ]
  },
  {
   "cell_type": "code",
   "execution_count": null,
   "metadata": {},
   "outputs": [],
   "source": [
    "df['tipo_de_sala'].value_counts().sort_values(ascending=False) \\\n",
    ".plot(title = 'Cantidad de espectadores por tipo de sala', \n",
    "      xlabel = 'Tipo de sala', \n",
    "      ylabel = 'Cantidad de espectadores',\n",
    "      kind='bar')"
   ]
  },
  {
   "cell_type": "code",
   "execution_count": null,
   "metadata": {},
   "outputs": [],
   "source": [
    "# Comparamos la sala a la que fueron y la decisión de volver\n",
    "plt.figure(dpi=150)\n",
    "df_aux = df[[\"volveria\", \"tipo_de_sala\"]].value_counts().reset_index()\n",
    "df_aux.columns.values[2] = 'count'\n",
    "df_aux.volveria.replace(to_replace=[True, False], value=[\"Sí\", \"No\"], inplace=True)\n",
    "\n",
    "sns.catplot(data=df_aux, x='tipo_de_sala', y='count', hue='volveria', kind='bar', \n",
    "                legend=False, order=['2d', '3d', '4d'])\n",
    "\n",
    "plt.legend(title = \"Volvería\")\n",
    "plt.ylabel(\"Cantidad de espectadores\")\n",
    "plt.xlabel(\"Tipo de sala\")\n",
    "plt.title('Relación tipo de sala y decisión de volver')\n",
    "plt.show()"
   ]
  },
  {
   "cell_type": "markdown",
   "metadata": {},
   "source": [
    "### Conclusión"
   ]
  },
  {
   "cell_type": "markdown",
   "metadata": {},
   "source": [
    "Graficamente vemos que la mayoría de los encuestados concurrieron a salas 4D"
   ]
  },
  {
   "cell_type": "markdown",
   "metadata": {},
   "source": [
    "Podemos observar que en el caso de las salas:\n",
    "- 2D es superior la cantidad de personas que decidirían volver respecto de las que no.\n",
    "- 3D no se aprecia una diferencia significativa en la decisión de volver.\n",
    "- 4D es considerable la cantidad de personas que no volverían comparada con las que sí.\n",
    "\n",
    "Además observamos que si bien la cantidad de espectadores de las salas 2d es inferior a la de 4d, la cantidad de personas que decidiría volver es superior."
   ]
  },
  {
   "cell_type": "markdown",
   "metadata": {},
   "source": [
    "# Justificar la eliminacion de las columnas\n",
    "\n",
    "nombre\n",
    "\n",
    "fila (no tocar, hasta el jueves o viernes a la tarde)\n",
    "\n",
    "id_ticket\n",
    "\n",
    "-------------------------------------------------------------------"
   ]
  },
  {
   "cell_type": "code",
   "execution_count": null,
   "metadata": {},
   "outputs": [],
   "source": [
    "# Analizamos la columna 'fila'\n",
    "df['fila'].isnull().sum()"
   ]
  },
  {
   "cell_type": "markdown",
   "metadata": {},
   "source": [
    "# Transformación de datos de la encuesta\n",
    "Aplicamos los cambios necesarios para realizar una limpieza de los datos, basandonos en el análisis inicial."
   ]
  },
  {
   "cell_type": "code",
   "execution_count": null,
   "metadata": {},
   "outputs": [],
   "source": [
    "# Como la mayoria de los valores de la columna fila son nulos decidimos eliminarla\n",
    "df.drop(columns='fila', inplace=True)"
   ]
  },
  {
   "cell_type": "markdown",
   "metadata": {},
   "source": [
    "# Gráficos"
   ]
  },
  {
   "cell_type": "code",
   "execution_count": null,
   "metadata": {},
   "outputs": [],
   "source": [
    "# Vemos en porcentaje si las personas volverían o no\n",
    "plt.figure(dpi=85)\n",
    "df.volveria.replace(to_replace=[True, False], value=[\"Sí\", \"No\"]).value_counts().plot(kind='pie', autopct='%1.0f%%', ylabel='¿Volvería?')"
   ]
  },
  {
   "cell_type": "markdown",
   "metadata": {},
   "source": [
    "Podemos apreciar que la mayoría de los espectadores no volverían"
   ]
  },
  {
   "cell_type": "code",
   "execution_count": null,
   "metadata": {},
   "outputs": [],
   "source": [
    "# Vemos cuales fueron las salas más elegidas según las sedes\n",
    "plt.figure(dpi=100)\n",
    "\n",
    "df_aux = df[[\"tipo_de_sala\", \"nombre_sede\"]].value_counts().reset_index()\n",
    "df_aux.columns.values[2] = 'count'\n",
    "\n",
    "df_aux = df_aux.pivot(\"tipo_de_sala\", \"nombre_sede\", \"count\")\n",
    "\n",
    "g = sns.heatmap(df_aux, square=True, cmap=\"Wistia\", xticklabels=True)\n",
    "\n",
    "g.set_xlabel(\"Nombre de sede\")\n",
    "g.set_ylabel(\"Tipo de sala\")\n",
    "g.set_title(\"Relación sede y tipo de sala elegidas\")\n",
    "  \n",
    "plt.show()"
   ]
  },
  {
   "cell_type": "markdown",
   "metadata": {},
   "source": [
    "Podemos ver que para todos los tipos de salas la sede más elegida fue Palermo y que la sala 4d de Palermo fue la más elegida de todas."
   ]
  },
  {
   "cell_type": "code",
   "execution_count": null,
   "metadata": {},
   "outputs": [],
   "source": [
    "df_aux = df[[\"volveria\", \"genero\", \"tipo_de_sala\", \"nombre_sede\"]].value_counts().reset_index()\n",
    "df_aux.columns.values[-1] = 'cantidad_espectadores'\n",
    "df_aux.volveria.replace(to_replace=[True, False], value=[\"sí\", \"no\"], inplace=True)"
   ]
  },
  {
   "cell_type": "code",
   "execution_count": null,
   "metadata": {},
   "outputs": [],
   "source": [
    "df_hombre = df_aux[df_aux[\"genero\"] == \"hombre\"]\n",
    "\n",
    "plt.figure()\n",
    "\n",
    "g = sns.catplot(data=df_hombre, x='tipo_de_sala', y='cantidad_espectadores', hue='nombre_sede', kind='bar',\n",
    "            order=['2d', '3d', '4d'], col='volveria')\n",
    "\n",
    "(g.set_axis_labels(\"Tipo de sala\", \"Cantidad de espectadores\")\n",
    "  .set_titles(\"Distribución de hombres que {col_name} {col_var} por sala y sede\"))  \n",
    "\n",
    "plt.show()"
   ]
  },
  {
   "cell_type": "code",
   "execution_count": null,
   "metadata": {},
   "outputs": [],
   "source": [
    "df_mujer = df_aux[df_aux[\"genero\"] == \"mujer\"]\n",
    "\n",
    "plt.figure()\n",
    "g = sns.catplot(data=df_mujer, x='tipo_de_sala', y='cantidad_espectadores', hue='nombre_sede', kind='bar',\n",
    "            order=['2d', '3d', '4d'], col ='volveria')\n",
    "\n",
    "(g.set_axis_labels(\"Tipo de sala\", \"Cantidad de espectadores\")\n",
    "  .set_titles(\"Distribución de mujeres que {col_name} {col_var} por sala y sede\")\n",
    ")  \n",
    "\n",
    "plt.show()"
   ]
  },
  {
   "cell_type": "markdown",
   "metadata": {},
   "source": [
    "# Conclusiones"
   ]
  },
  {
   "cell_type": "markdown",
   "metadata": {},
   "source": [
    "- Con el gráfico boxplot podemos ver que la mayoría de los valores representativos de la columna 'precio_ticket' es menor a 15 \n",
    " \n",
    "  Hablar con mica porque no se incluyo en feature engineering\n",
    "  \n",
    "  \n",
    "\n",
    "- Con los últimos dos gráficos llegamos a las siguientes conclusiones\n",
    "    - En el caso de los hombres para todas las sedes y salas la mayoría no volvería. \n",
    "    - En el caso de las mujeres \n",
    "        - Para las salas 2d y 3d se puede ver que en todas las sedes la mayoría volvería.\n",
    "        - Para las salas 4d\n",
    "            - En el caso de la sede de Chacarita la mayoría volvería\n",
    "            - En el caso de la sede de Quilmes no se tiene suficiente información para establecer un comportamiento\n",
    "            - En el caso de la sede de Palermo podemos notar que la mayoría no volvería\n",
    "          "
   ]
  },
  {
   "cell_type": "markdown",
   "metadata": {},
   "source": [
    "# Feature Engineering"
   ]
  },
  {
   "cell_type": "code",
   "execution_count": null,
   "metadata": {},
   "outputs": [],
   "source": [
    "def FeatureEngineering(df):\n",
    "    \n",
    "    df_clean = df.copy()\n",
    "    \n",
    "    df_clean.drop(columns=['nombre', 'id_ticket', 'id_usuario'], inplace = True)\n",
    "    df_clean['cantidad_acompanantes'] = df_clean['amigos'] + df_clean['parientes']\n",
    "    df_clean.drop(columns=['amigos', 'parientes'], axis=1, inplace = True)\n",
    "    df_clean['fue_acompanado'] = df_clean['cantidad_acompanantes'].apply(lambda x: 1 if x > 0 else 0)\n",
    "    df_clean['tipo_de_sala'].replace(to_replace = 'normal', value = '2d', inplace = True)\n",
    "    df_clean['nombre_sede'].replace(to_replace = 'fiumark_quilmes', value ='Quilmes', inplace=True) \n",
    "    df_clean['nombre_sede'].replace(to_replace = 'fiumark_chacarita', value ='Chacarita', inplace=True) \n",
    "    df_clean['nombre_sede'].replace(to_replace = 'fiumark_palermo', value ='Palermo', inplace=True) \n",
    "    df_clean.drop(columns = 'fila', inplace = True)\n",
    "            \n",
    "    return df_clean"
   ]
  },
  {
   "cell_type": "code",
   "execution_count": null,
   "metadata": {},
   "outputs": [],
   "source": [
    "def Predict(df):\n",
    "    pred = []\n",
    "    values = df.values\n",
    "    for val in values:\n",
    "        if val[1] == 'hombre':\n",
    "            pred.append(0)\n",
    "        else:\n",
    "            if (val[0] == '4d' and val[4] == 'Palermo'):\n",
    "                pred.append(0)\n",
    "            else:\n",
    "                pred.append(1)\n",
    "     \n",
    "    return pred"
   ]
  },
  {
   "cell_type": "code",
   "execution_count": null,
   "metadata": {},
   "outputs": [],
   "source": [
    "def baseline(df):\n",
    "    \"\"\"    \n",
    "    Input: dataframe\n",
    "    Output: lista con las predicciones    \n",
    "    \"\"\"    \n",
    "    # Aplicamos feature engineering a los datos de entrada\n",
    "    entrada = FeatureEngineering(df)\n",
    "    pred = Predict(entrada)\n",
    "    \n",
    "    return pred"
   ]
  },
  {
   "cell_type": "code",
   "execution_count": null,
   "metadata": {},
   "outputs": [],
   "source": [
    "# Generamos dataframe para probar\n",
    "df_datos_test = GetDatosEncuesta()\n",
    "\n",
    "df_volveria_test = GetEncuesta()\n",
    "df_volveria_test = df_volveria_test.volveria\n"
   ]
  },
  {
   "cell_type": "code",
   "execution_count": null,
   "metadata": {},
   "outputs": [],
   "source": [
    "predicciones = baseline(df_datos_test)\n",
    "accuracy_score(df_volveria_test, predicciones)"
   ]
  },
  {
   "cell_type": "markdown",
   "metadata": {},
   "source": [
    "# Comentarios:\n",
    "\n",
    "\t* Razon por la que no importa a la prediccion (apoyarse con graficos)\n",
    "\t\tnombre, fila (sesgo)\n",
    "\t\n",
    "\t* Chequear el motivo por el cual faltan\n",
    "\t\n",
    "\t\n",
    "* Graficos\n",
    "    - Ordenar graficos\n",
    "    - Medir porcentajes en base a gente encuestada\n",
    "    - Agregar conclusion al informe de porque no aporta informacion\n",
    "\t\t\n",
    "\t\t\n",
    "* Coherencia entre entrenamiento y prediccion\t\n",
    "\n",
    "\n",
    "* Preguntas de negocio - analisis - conclusion\n",
    "\n",
    "\n",
    "\n",
    "## Re-entrega: antes del 17 de noviembre"
   ]
  },
  {
   "cell_type": "code",
   "execution_count": null,
   "metadata": {},
   "outputs": [],
   "source": []
  }
 ],
 "metadata": {
  "kernelspec": {
   "display_name": "Python 3",
   "language": "python",
   "name": "python3"
  },
  "language_info": {
   "codemirror_mode": {
    "name": "ipython",
    "version": 3
   },
   "file_extension": ".py",
   "mimetype": "text/x-python",
   "name": "python",
   "nbconvert_exporter": "python",
   "pygments_lexer": "ipython3",
   "version": "3.7.8"
  }
 },
 "nbformat": 4,
 "nbformat_minor": 4
}
